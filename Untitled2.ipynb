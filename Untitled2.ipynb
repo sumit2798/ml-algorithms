{
 "cells": [
  {
   "cell_type": "code",
   "execution_count": 2,
   "metadata": {},
   "outputs": [],
   "source": [
    "import re"
   ]
  },
  {
   "cell_type": "code",
   "execution_count": 3,
   "metadata": {},
   "outputs": [],
   "source": [
    "str=\"Subu is a bad girl and she never brushes her teeth\""
   ]
  },
  {
   "cell_type": "code",
   "execution_count": 4,
   "metadata": {},
   "outputs": [],
   "source": [
    "import nltk"
   ]
  },
  {
   "cell_type": "code",
   "execution_count": null,
   "metadata": {},
   "outputs": [],
   "source": []
  },
  {
   "cell_type": "code",
   "execution_count": 5,
   "metadata": {},
   "outputs": [
    {
     "data": {
      "text/plain": [
       "2630473538760"
      ]
     },
     "execution_count": 5,
     "metadata": {},
     "output_type": "execute_result"
    }
   ],
   "source": [
    "id(str)"
   ]
  },
  {
   "cell_type": "code",
   "execution_count": 6,
   "metadata": {},
   "outputs": [
    {
     "name": "stdout",
     "output_type": "stream",
     "text": [
      "Character S: has index: 0\n",
      "Character u: has index: 1\n",
      "Character b: has index: 2\n",
      "Character u: has index: 3\n",
      "Character  : has index: 4\n",
      "Character i: has index: 5\n",
      "Character s: has index: 6\n",
      "Character  : has index: 7\n",
      "Character a: has index: 8\n",
      "Character  : has index: 9\n",
      "Character b: has index: 10\n",
      "Character a: has index: 11\n",
      "Character d: has index: 12\n",
      "Character  : has index: 13\n",
      "Character g: has index: 14\n",
      "Character i: has index: 15\n",
      "Character r: has index: 16\n",
      "Character l: has index: 17\n",
      "Character  : has index: 18\n",
      "Character a: has index: 19\n",
      "Character n: has index: 20\n",
      "Character d: has index: 21\n",
      "Character  : has index: 22\n",
      "Character s: has index: 23\n",
      "Character h: has index: 24\n",
      "Character e: has index: 25\n",
      "Character  : has index: 26\n",
      "Character n: has index: 27\n",
      "Character e: has index: 28\n",
      "Character v: has index: 29\n",
      "Character e: has index: 30\n",
      "Character r: has index: 31\n",
      "Character  : has index: 32\n",
      "Character b: has index: 33\n",
      "Character r: has index: 34\n",
      "Character u: has index: 35\n",
      "Character s: has index: 36\n",
      "Character h: has index: 37\n",
      "Character e: has index: 38\n",
      "Character s: has index: 39\n",
      "Character  : has index: 40\n",
      "Character h: has index: 41\n",
      "Character e: has index: 42\n",
      "Character r: has index: 43\n",
      "Character  : has index: 44\n",
      "Character t: has index: 45\n",
      "Character e: has index: 46\n",
      "Character e: has index: 47\n",
      "Character t: has index: 48\n",
      "Character h: has index: 49\n"
     ]
    }
   ],
   "source": [
    "for index, character in enumerate(str):\n",
    "    print ('Character', character+':', 'has index:', index)"
   ]
  },
  {
   "cell_type": "code",
   "execution_count": 7,
   "metadata": {},
   "outputs": [],
   "source": [
    "s = u'H\\u00e8llo'"
   ]
  },
  {
   "cell_type": "code",
   "execution_count": 8,
   "metadata": {},
   "outputs": [
    {
     "name": "stdout",
     "output_type": "stream",
     "text": [
      "Hèllo\n"
     ]
    }
   ],
   "source": [
    "print(s)"
   ]
  },
  {
   "cell_type": "code",
   "execution_count": 9,
   "metadata": {},
   "outputs": [
    {
     "data": {
      "text/plain": [
       "'Hèllo'"
      ]
     },
     "execution_count": 9,
     "metadata": {},
     "output_type": "execute_result"
    }
   ],
   "source": [
    "s"
   ]
  },
  {
   "cell_type": "code",
   "execution_count": null,
   "metadata": {},
   "outputs": [
    {
     "name": "stdout",
     "output_type": "stream",
     "text": [
      "showing info https://raw.githubusercontent.com/nltk/nltk_data/gh-pages/index.xml\n",
      "showing info https://raw.githubusercontent.com/nltk/nltk_data/gh-pages/index.xml\n",
      "showing info https://raw.githubusercontent.com/nltk/nltk_data/gh-pages/index.xml\n"
     ]
    }
   ],
   "source": [
    "nltk.download()"
   ]
  },
  {
   "cell_type": "code",
   "execution_count": null,
   "metadata": {},
   "outputs": [],
   "source": []
  },
  {
   "cell_type": "code",
   "execution_count": null,
   "metadata": {},
   "outputs": [],
   "source": []
  }
 ],
 "metadata": {
  "kernelspec": {
   "display_name": "Python 3",
   "language": "python",
   "name": "python3"
  },
  "language_info": {
   "codemirror_mode": {
    "name": "ipython",
    "version": 3
   },
   "file_extension": ".py",
   "mimetype": "text/x-python",
   "name": "python",
   "nbconvert_exporter": "python",
   "pygments_lexer": "ipython3",
   "version": "3.6.5"
  }
 },
 "nbformat": 4,
 "nbformat_minor": 2
}
