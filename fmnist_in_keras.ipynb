{
 "cells": [
  {
   "cell_type": "code",
   "execution_count": 0,
   "metadata": {
    "colab": {},
    "colab_type": "code",
    "id": "gOE_ei7Z6jI_"
   },
   "outputs": [],
   "source": [
    "import tensorflow as tf\n",
    "from tensorflow import keras"
   ]
  },
  {
   "cell_type": "code",
   "execution_count": 2,
   "metadata": {
    "colab": {
     "base_uri": "https://localhost:8080/",
     "height": 34
    },
    "colab_type": "code",
    "id": "vRcXZ24yGQ4K",
    "outputId": "61f6bdc7-0afc-4ec6-cc26-ce035bd892d4"
   },
   "outputs": [
    {
     "data": {
      "text/plain": [
       "'1.13.1'"
      ]
     },
     "execution_count": 2,
     "metadata": {
      "tags": []
     },
     "output_type": "execute_result"
    }
   ],
   "source": [
    "tf.__version__"
   ]
  },
  {
   "cell_type": "code",
   "execution_count": 4,
   "metadata": {
    "colab": {
     "base_uri": "https://localhost:8080/",
     "height": 34
    },
    "colab_type": "code",
    "id": "TW48dqDXGTvv",
    "outputId": "41812f1f-5ea4-4e40-ca65-89b18d262ad2"
   },
   "outputs": [
    {
     "data": {
      "text/plain": [
       "'2.2.4-tf'"
      ]
     },
     "execution_count": 4,
     "metadata": {
      "tags": []
     },
     "output_type": "execute_result"
    }
   ],
   "source": [
    "keras.__version__"
   ]
  },
  {
   "cell_type": "code",
   "execution_count": 5,
   "metadata": {
    "colab": {
     "base_uri": "https://localhost:8080/",
     "height": 153
    },
    "colab_type": "code",
    "id": "cxcr8Oy5GhBc",
    "outputId": "803eaaf0-22b4-4f64-f433-6cd45bb0b031"
   },
   "outputs": [
    {
     "name": "stdout",
     "output_type": "stream",
     "text": [
      "Downloading data from https://storage.googleapis.com/tensorflow/tf-keras-datasets/train-labels-idx1-ubyte.gz\n",
      "32768/29515 [=================================] - 0s 0us/step\n",
      "Downloading data from https://storage.googleapis.com/tensorflow/tf-keras-datasets/train-images-idx3-ubyte.gz\n",
      "26427392/26421880 [==============================] - 0s 0us/step\n",
      "Downloading data from https://storage.googleapis.com/tensorflow/tf-keras-datasets/t10k-labels-idx1-ubyte.gz\n",
      "8192/5148 [===============================================] - 0s 0us/step\n",
      "Downloading data from https://storage.googleapis.com/tensorflow/tf-keras-datasets/t10k-images-idx3-ubyte.gz\n",
      "4423680/4422102 [==============================] - 0s 0us/step\n"
     ]
    }
   ],
   "source": [
    "fashion_mnist=keras.datasets.fashion_mnist\n",
    "(X_train_full,y_train_full),(X_test,y_test)=fashion_mnist.load_data()"
   ]
  },
  {
   "cell_type": "code",
   "execution_count": 6,
   "metadata": {
    "colab": {
     "base_uri": "https://localhost:8080/",
     "height": 34
    },
    "colab_type": "code",
    "id": "tvPw3XNQHCEm",
    "outputId": "ad3dca0c-3c53-4c68-d2dc-33484d9c5872"
   },
   "outputs": [
    {
     "data": {
      "text/plain": [
       "(60000, 28, 28)"
      ]
     },
     "execution_count": 6,
     "metadata": {
      "tags": []
     },
     "output_type": "execute_result"
    }
   ],
   "source": [
    "X_train_full.shape"
   ]
  },
  {
   "cell_type": "code",
   "execution_count": 7,
   "metadata": {
    "colab": {
     "base_uri": "https://localhost:8080/",
     "height": 34
    },
    "colab_type": "code",
    "id": "QfrRGy64HG8E",
    "outputId": "8886afb5-4f9e-46ef-b470-23e6229f968d"
   },
   "outputs": [
    {
     "data": {
      "text/plain": [
       "dtype('uint8')"
      ]
     },
     "execution_count": 7,
     "metadata": {
      "tags": []
     },
     "output_type": "execute_result"
    }
   ],
   "source": [
    "X_train_full.dtype"
   ]
  },
  {
   "cell_type": "code",
   "execution_count": 0,
   "metadata": {
    "colab": {},
    "colab_type": "code",
    "id": "bUdAOU7RHLQC"
   },
   "outputs": [],
   "source": [
    "x_valid,X_train=X_train_full[:5000]/255.0,X_train_full[5000:]/255.0"
   ]
  },
  {
   "cell_type": "code",
   "execution_count": 0,
   "metadata": {
    "colab": {},
    "colab_type": "code",
    "id": "9PVku-rrH_ps"
   },
   "outputs": [],
   "source": [
    "y_valid,y_train=y_train_full[:5000],y_train_full[5000:]\n",
    "                            "
   ]
  },
  {
   "cell_type": "code",
   "execution_count": 0,
   "metadata": {
    "colab": {},
    "colab_type": "code",
    "id": "XYrqRulNIooB"
   },
   "outputs": [],
   "source": [
    "class_names=[\"T-shirt\",\"Trouser\",\"Pullover\",\"Dress\",\"Coat\",\"Sandal\",\"Sneaker\",\"Bag\",\"AnkleBoot\"]"
   ]
  },
  {
   "cell_type": "code",
   "execution_count": 16,
   "metadata": {
    "colab": {
     "base_uri": "https://localhost:8080/",
     "height": 34
    },
    "colab_type": "code",
    "id": "uf2IrlfcJPX7",
    "outputId": "6cd7b8ef-4737-4ed1-b459-1248a08c233b"
   },
   "outputs": [
    {
     "data": {
      "text/plain": [
       "'Coat'"
      ]
     },
     "execution_count": 16,
     "metadata": {
      "tags": []
     },
     "output_type": "execute_result"
    }
   ],
   "source": [
    "class_names[y_train[0]]"
   ]
  },
  {
   "cell_type": "code",
   "execution_count": 0,
   "metadata": {
    "colab": {},
    "colab_type": "code",
    "id": "z8mLqKTSJUYo"
   },
   "outputs": [],
   "source": [
    "model=keras.models.Sequential()"
   ]
  },
  {
   "cell_type": "code",
   "execution_count": 0,
   "metadata": {
    "colab": {},
    "colab_type": "code",
    "id": "YKHLBm5pJe7y"
   },
   "outputs": [],
   "source": [
    "model.add(keras.layers.Flatten(input_shape=[28,28]))\n",
    "model.add(keras.layers.Dense(300,activation=\"relu\"))\n",
    "model.add(keras.layers.Dense(100,activation=\"relu\"))\n",
    "model.add(keras.layers.Dense(10,activation=\"softmax\"))"
   ]
  },
  {
   "cell_type": "code",
   "execution_count": 0,
   "metadata": {
    "colab": {},
    "colab_type": "code",
    "id": "tQXwrhhVJtAS"
   },
   "outputs": [],
   "source": [
    "\n"
   ]
  },
  {
   "cell_type": "code",
   "execution_count": 31,
   "metadata": {
    "colab": {
     "base_uri": "https://localhost:8080/",
     "height": 272
    },
    "colab_type": "code",
    "id": "93sNmdu-KUs1",
    "outputId": "6ddc6164-b0e8-4631-c841-159e00a9fe23"
   },
   "outputs": [
    {
     "name": "stdout",
     "output_type": "stream",
     "text": [
      "_________________________________________________________________\n",
      "Layer (type)                 Output Shape              Param #   \n",
      "=================================================================\n",
      "flatten_2 (Flatten)          (None, 784)               0         \n",
      "_________________________________________________________________\n",
      "dense_6 (Dense)              (None, 300)               235500    \n",
      "_________________________________________________________________\n",
      "dense_7 (Dense)              (None, 100)               30100     \n",
      "_________________________________________________________________\n",
      "dense_8 (Dense)              (None, 10)                1010      \n",
      "=================================================================\n",
      "Total params: 266,610\n",
      "Trainable params: 266,610\n",
      "Non-trainable params: 0\n",
      "_________________________________________________________________\n"
     ]
    }
   ],
   "source": [
    "model.summary()"
   ]
  },
  {
   "cell_type": "code",
   "execution_count": 32,
   "metadata": {
    "colab": {
     "base_uri": "https://localhost:8080/",
     "height": 85
    },
    "colab_type": "code",
    "id": "V3tKkT3FKbPx",
    "outputId": "f137bf82-4a15-4122-e3b0-06871a241c8c"
   },
   "outputs": [
    {
     "data": {
      "text/plain": [
       "[<tensorflow.python.keras.layers.core.Flatten at 0x7feb0be97ef0>,\n",
       " <tensorflow.python.keras.layers.core.Dense at 0x7feb0be97e80>,\n",
       " <tensorflow.python.keras.layers.core.Dense at 0x7feb0bebe438>,\n",
       " <tensorflow.python.keras.layers.core.Dense at 0x7feb0bebe240>]"
      ]
     },
     "execution_count": 32,
     "metadata": {
      "tags": []
     },
     "output_type": "execute_result"
    }
   ],
   "source": [
    "model.layers"
   ]
  },
  {
   "cell_type": "code",
   "execution_count": 34,
   "metadata": {
    "colab": {
     "base_uri": "https://localhost:8080/",
     "height": 34
    },
    "colab_type": "code",
    "id": "sl0qQIogMKQ0",
    "outputId": "bcbea3ea-a728-43dd-ef67-dc28ffcc7dd0"
   },
   "outputs": [
    {
     "data": {
      "text/plain": [
       "'dense_6'"
      ]
     },
     "execution_count": 34,
     "metadata": {
      "tags": []
     },
     "output_type": "execute_result"
    }
   ],
   "source": [
    "model.layers[1].name"
   ]
  },
  {
   "cell_type": "code",
   "execution_count": 38,
   "metadata": {
    "colab": {
     "base_uri": "https://localhost:8080/",
     "height": 34
    },
    "colab_type": "code",
    "id": "6kBJl74zMWDW",
    "outputId": "cc55b6d4-7747-439d-9668-6d2fddaf76ae"
   },
   "outputs": [
    {
     "data": {
      "text/plain": [
       "'dense_6'"
      ]
     },
     "execution_count": 38,
     "metadata": {
      "tags": []
     },
     "output_type": "execute_result"
    }
   ],
   "source": [
    "model.get_layer('dense_6').name"
   ]
  },
  {
   "cell_type": "code",
   "execution_count": 0,
   "metadata": {
    "colab": {},
    "colab_type": "code",
    "id": "3G3BWS6SMg_R"
   },
   "outputs": [],
   "source": [
    "hidden=model.layers[1]\n",
    "weights,biases=hidden.get_weights()"
   ]
  },
  {
   "cell_type": "code",
   "execution_count": 41,
   "metadata": {
    "colab": {
     "base_uri": "https://localhost:8080/",
     "height": 238
    },
    "colab_type": "code",
    "id": "OWjRSoPGM12O",
    "outputId": "e33a1413-92d8-49ec-b7e0-eb92f51e0821"
   },
   "outputs": [
    {
     "data": {
      "text/plain": [
       "array([[-0.0378429 ,  0.00414239, -0.00847181, ...,  0.0145461 ,\n",
       "        -0.04335947, -0.03440122],\n",
       "       [-0.00828677,  0.06715553, -0.05328863, ...,  0.05654941,\n",
       "         0.00801552, -0.0271218 ],\n",
       "       [ 0.04814406, -0.05402654,  0.01960523, ..., -0.04529561,\n",
       "         0.01253309,  0.00848152],\n",
       "       ...,\n",
       "       [-0.04711731,  0.01668167,  0.05271862, ..., -0.04633826,\n",
       "         0.05103989,  0.07363017],\n",
       "       [-0.06306245, -0.03984424, -0.01066895, ..., -0.02609744,\n",
       "         0.02803755,  0.05994272],\n",
       "       [ 0.06718999,  0.07084282, -0.04599981, ...,  0.03239924,\n",
       "         0.01048077,  0.00954158]], dtype=float32)"
      ]
     },
     "execution_count": 41,
     "metadata": {
      "tags": []
     },
     "output_type": "execute_result"
    }
   ],
   "source": [
    "weights\n"
   ]
  },
  {
   "cell_type": "code",
   "execution_count": 42,
   "metadata": {
    "colab": {
     "base_uri": "https://localhost:8080/",
     "height": 34
    },
    "colab_type": "code",
    "id": "-NVq1PjHM_Yx",
    "outputId": "c553b403-8bfa-43ea-8321-5259ed2cf672"
   },
   "outputs": [
    {
     "data": {
      "text/plain": [
       "(784, 300)"
      ]
     },
     "execution_count": 42,
     "metadata": {
      "tags": []
     },
     "output_type": "execute_result"
    }
   ],
   "source": [
    "weights.shape"
   ]
  },
  {
   "cell_type": "code",
   "execution_count": 43,
   "metadata": {
    "colab": {
     "base_uri": "https://localhost:8080/",
     "height": 323
    },
    "colab_type": "code",
    "id": "yZeXJGyzNCEH",
    "outputId": "dc75fc2c-c277-467d-9d9d-50b54e6ec5fe"
   },
   "outputs": [
    {
     "data": {
      "text/plain": [
       "array([0., 0., 0., 0., 0., 0., 0., 0., 0., 0., 0., 0., 0., 0., 0., 0., 0.,\n",
       "       0., 0., 0., 0., 0., 0., 0., 0., 0., 0., 0., 0., 0., 0., 0., 0., 0.,\n",
       "       0., 0., 0., 0., 0., 0., 0., 0., 0., 0., 0., 0., 0., 0., 0., 0., 0.,\n",
       "       0., 0., 0., 0., 0., 0., 0., 0., 0., 0., 0., 0., 0., 0., 0., 0., 0.,\n",
       "       0., 0., 0., 0., 0., 0., 0., 0., 0., 0., 0., 0., 0., 0., 0., 0., 0.,\n",
       "       0., 0., 0., 0., 0., 0., 0., 0., 0., 0., 0., 0., 0., 0., 0., 0., 0.,\n",
       "       0., 0., 0., 0., 0., 0., 0., 0., 0., 0., 0., 0., 0., 0., 0., 0., 0.,\n",
       "       0., 0., 0., 0., 0., 0., 0., 0., 0., 0., 0., 0., 0., 0., 0., 0., 0.,\n",
       "       0., 0., 0., 0., 0., 0., 0., 0., 0., 0., 0., 0., 0., 0., 0., 0., 0.,\n",
       "       0., 0., 0., 0., 0., 0., 0., 0., 0., 0., 0., 0., 0., 0., 0., 0., 0.,\n",
       "       0., 0., 0., 0., 0., 0., 0., 0., 0., 0., 0., 0., 0., 0., 0., 0., 0.,\n",
       "       0., 0., 0., 0., 0., 0., 0., 0., 0., 0., 0., 0., 0., 0., 0., 0., 0.,\n",
       "       0., 0., 0., 0., 0., 0., 0., 0., 0., 0., 0., 0., 0., 0., 0., 0., 0.,\n",
       "       0., 0., 0., 0., 0., 0., 0., 0., 0., 0., 0., 0., 0., 0., 0., 0., 0.,\n",
       "       0., 0., 0., 0., 0., 0., 0., 0., 0., 0., 0., 0., 0., 0., 0., 0., 0.,\n",
       "       0., 0., 0., 0., 0., 0., 0., 0., 0., 0., 0., 0., 0., 0., 0., 0., 0.,\n",
       "       0., 0., 0., 0., 0., 0., 0., 0., 0., 0., 0., 0., 0., 0., 0., 0., 0.,\n",
       "       0., 0., 0., 0., 0., 0., 0., 0., 0., 0., 0.], dtype=float32)"
      ]
     },
     "execution_count": 43,
     "metadata": {
      "tags": []
     },
     "output_type": "execute_result"
    }
   ],
   "source": [
    "biases"
   ]
  },
  {
   "cell_type": "code",
   "execution_count": 44,
   "metadata": {
    "colab": {
     "base_uri": "https://localhost:8080/",
     "height": 34
    },
    "colab_type": "code",
    "id": "eqDCJb4WNJvt",
    "outputId": "8973bf54-90b1-4de5-bcad-6f9f7da155c4"
   },
   "outputs": [
    {
     "data": {
      "text/plain": [
       "(300,)"
      ]
     },
     "execution_count": 44,
     "metadata": {
      "tags": []
     },
     "output_type": "execute_result"
    }
   ],
   "source": [
    "biases.shape"
   ]
  },
  {
   "cell_type": "code",
   "execution_count": 0,
   "metadata": {
    "colab": {},
    "colab_type": "code",
    "id": "lkCsuKFWNRXf"
   },
   "outputs": [],
   "source": [
    "model.compile(loss=\"sparse_categorical_crossentropy\",\n",
    "             optimizer=\"sgd\",\n",
    "             metrics=['accuracy'])"
   ]
  },
  {
   "cell_type": "code",
   "execution_count": 48,
   "metadata": {
    "colab": {
     "base_uri": "https://localhost:8080/",
     "height": 1054
    },
    "colab_type": "code",
    "id": "sQNScwWWNSie",
    "outputId": "e97f5eb0-3d6a-4f2b-b449-3549e61cfb96"
   },
   "outputs": [
    {
     "name": "stdout",
     "output_type": "stream",
     "text": [
      "Train on 55000 samples, validate on 5000 samples\n",
      "Epoch 1/30\n",
      "55000/55000 [==============================] - 9s 168us/sample - loss: 0.7160 - acc: 0.7626 - val_loss: 0.5284 - val_acc: 0.8260\n",
      "Epoch 2/30\n",
      "55000/55000 [==============================] - 9s 158us/sample - loss: 0.4921 - acc: 0.8271 - val_loss: 0.4414 - val_acc: 0.8516\n",
      "Epoch 3/30\n",
      "55000/55000 [==============================] - 8s 148us/sample - loss: 0.4459 - acc: 0.8440 - val_loss: 0.4234 - val_acc: 0.8582\n",
      "Epoch 4/30\n",
      "55000/55000 [==============================] - 8s 150us/sample - loss: 0.4190 - acc: 0.8521 - val_loss: 0.4068 - val_acc: 0.8538\n",
      "Epoch 5/30\n",
      "55000/55000 [==============================] - 9s 159us/sample - loss: 0.3993 - acc: 0.8586 - val_loss: 0.3903 - val_acc: 0.8664\n",
      "Epoch 6/30\n",
      "55000/55000 [==============================] - 10s 184us/sample - loss: 0.3824 - acc: 0.8632 - val_loss: 0.3752 - val_acc: 0.8714\n",
      "Epoch 7/30\n",
      "55000/55000 [==============================] - 10s 178us/sample - loss: 0.3689 - acc: 0.8691 - val_loss: 0.3776 - val_acc: 0.8684\n",
      "Epoch 8/30\n",
      "55000/55000 [==============================] - 9s 163us/sample - loss: 0.3560 - acc: 0.8734 - val_loss: 0.3619 - val_acc: 0.8746\n",
      "Epoch 9/30\n",
      "55000/55000 [==============================] - 9s 171us/sample - loss: 0.3456 - acc: 0.8755 - val_loss: 0.3463 - val_acc: 0.8794\n",
      "Epoch 10/30\n",
      "55000/55000 [==============================] - 9s 166us/sample - loss: 0.3372 - acc: 0.8795 - val_loss: 0.3451 - val_acc: 0.8786\n",
      "Epoch 11/30\n",
      "55000/55000 [==============================] - 9s 169us/sample - loss: 0.3279 - acc: 0.8819 - val_loss: 0.3400 - val_acc: 0.8756\n",
      "Epoch 12/30\n",
      "55000/55000 [==============================] - 9s 168us/sample - loss: 0.3216 - acc: 0.8844 - val_loss: 0.3373 - val_acc: 0.8804\n",
      "Epoch 13/30\n",
      "55000/55000 [==============================] - 9s 167us/sample - loss: 0.3130 - acc: 0.8876 - val_loss: 0.3472 - val_acc: 0.8722\n",
      "Epoch 14/30\n",
      "55000/55000 [==============================] - 9s 167us/sample - loss: 0.3065 - acc: 0.8892 - val_loss: 0.3342 - val_acc: 0.8812\n",
      "Epoch 15/30\n",
      "55000/55000 [==============================] - 9s 167us/sample - loss: 0.3007 - acc: 0.8916 - val_loss: 0.3430 - val_acc: 0.8812\n",
      "Epoch 16/30\n",
      "55000/55000 [==============================] - 9s 167us/sample - loss: 0.2939 - acc: 0.8936 - val_loss: 0.3272 - val_acc: 0.8778\n",
      "Epoch 17/30\n",
      "55000/55000 [==============================] - 9s 162us/sample - loss: 0.2886 - acc: 0.8945 - val_loss: 0.3327 - val_acc: 0.8788\n",
      "Epoch 18/30\n",
      "55000/55000 [==============================] - 9s 172us/sample - loss: 0.2817 - acc: 0.8971 - val_loss: 0.3190 - val_acc: 0.8840\n",
      "Epoch 19/30\n",
      "55000/55000 [==============================] - 9s 172us/sample - loss: 0.2773 - acc: 0.8995 - val_loss: 0.3270 - val_acc: 0.8816\n",
      "Epoch 20/30\n",
      "55000/55000 [==============================] - 9s 172us/sample - loss: 0.2726 - acc: 0.9006 - val_loss: 0.3107 - val_acc: 0.8884\n",
      "Epoch 21/30\n",
      "55000/55000 [==============================] - 9s 163us/sample - loss: 0.2682 - acc: 0.9028 - val_loss: 0.3186 - val_acc: 0.8852\n",
      "Epoch 22/30\n",
      "55000/55000 [==============================] - 9s 166us/sample - loss: 0.2634 - acc: 0.9040 - val_loss: 0.3062 - val_acc: 0.8906\n",
      "Epoch 23/30\n",
      "55000/55000 [==============================] - 9s 165us/sample - loss: 0.2579 - acc: 0.9054 - val_loss: 0.3094 - val_acc: 0.8898\n",
      "Epoch 24/30\n",
      "55000/55000 [==============================] - 9s 162us/sample - loss: 0.2536 - acc: 0.9069 - val_loss: 0.3111 - val_acc: 0.8882\n",
      "Epoch 25/30\n",
      "55000/55000 [==============================] - 9s 166us/sample - loss: 0.2501 - acc: 0.9098 - val_loss: 0.3065 - val_acc: 0.8876\n",
      "Epoch 26/30\n",
      "55000/55000 [==============================] - 9s 167us/sample - loss: 0.2454 - acc: 0.9114 - val_loss: 0.3087 - val_acc: 0.8872\n",
      "Epoch 27/30\n",
      "55000/55000 [==============================] - 9s 158us/sample - loss: 0.2414 - acc: 0.9122 - val_loss: 0.3092 - val_acc: 0.8872\n",
      "Epoch 28/30\n",
      "55000/55000 [==============================] - 9s 158us/sample - loss: 0.2369 - acc: 0.9134 - val_loss: 0.2968 - val_acc: 0.8938\n",
      "Epoch 29/30\n",
      "55000/55000 [==============================] - 8s 154us/sample - loss: 0.2331 - acc: 0.9165 - val_loss: 0.3066 - val_acc: 0.8872\n",
      "Epoch 30/30\n",
      "55000/55000 [==============================] - 8s 154us/sample - loss: 0.2297 - acc: 0.9176 - val_loss: 0.3033 - val_acc: 0.8916\n"
     ]
    }
   ],
   "source": [
    "history=model.fit(X_train,y_train,epochs=30,validation_data=[x_valid,y_valid])"
   ]
  },
  {
   "cell_type": "code",
   "execution_count": 50,
   "metadata": {
    "colab": {
     "base_uri": "https://localhost:8080/",
     "height": 34
    },
    "colab_type": "code",
    "id": "sd-AWGDOOMkv",
    "outputId": "ccbfdb01-fed0-4757-e909-a5a7bf98ca42"
   },
   "outputs": [
    {
     "data": {
      "text/plain": [
       "<tensorflow.python.keras.callbacks.History at 0x7feb0bdda8d0>"
      ]
     },
     "execution_count": 50,
     "metadata": {
      "tags": []
     },
     "output_type": "execute_result"
    }
   ],
   "source": [
    "history"
   ]
  },
  {
   "cell_type": "code",
   "execution_count": 51,
   "metadata": {
    "colab": {
     "base_uri": "https://localhost:8080/",
     "height": 1054
    },
    "colab_type": "code",
    "id": "awFspsYyPW6f",
    "outputId": "e5b802fc-c6ff-40c8-bf7a-cb61800c4f47"
   },
   "outputs": [
    {
     "name": "stdout",
     "output_type": "stream",
     "text": [
      "Train on 54000 samples, validate on 6000 samples\n",
      "Epoch 1/30\n",
      "54000/54000 [==============================] - 8s 152us/sample - loss: 0.2331 - acc: 0.9158 - val_loss: 0.2346 - val_acc: 0.9140\n",
      "Epoch 2/30\n",
      "54000/54000 [==============================] - 8s 151us/sample - loss: 0.2287 - acc: 0.9181 - val_loss: 0.2401 - val_acc: 0.9150\n",
      "Epoch 3/30\n",
      "54000/54000 [==============================] - 8s 151us/sample - loss: 0.2238 - acc: 0.9193 - val_loss: 0.2590 - val_acc: 0.9048\n",
      "Epoch 4/30\n",
      "54000/54000 [==============================] - 9s 158us/sample - loss: 0.2201 - acc: 0.9213 - val_loss: 0.2520 - val_acc: 0.9060\n",
      "Epoch 5/30\n",
      "54000/54000 [==============================] - 8s 151us/sample - loss: 0.2176 - acc: 0.9213 - val_loss: 0.2453 - val_acc: 0.9068\n",
      "Epoch 6/30\n",
      "54000/54000 [==============================] - 8s 148us/sample - loss: 0.2130 - acc: 0.9235 - val_loss: 0.2556 - val_acc: 0.9003\n",
      "Epoch 7/30\n",
      "54000/54000 [==============================] - 8s 152us/sample - loss: 0.2096 - acc: 0.9252 - val_loss: 0.2518 - val_acc: 0.9072\n",
      "Epoch 8/30\n",
      "54000/54000 [==============================] - 8s 148us/sample - loss: 0.2067 - acc: 0.9250 - val_loss: 0.2458 - val_acc: 0.9067\n",
      "Epoch 9/30\n",
      "54000/54000 [==============================] - 8s 150us/sample - loss: 0.2022 - acc: 0.9275 - val_loss: 0.2390 - val_acc: 0.9125\n",
      "Epoch 10/30\n",
      "54000/54000 [==============================] - 8s 154us/sample - loss: 0.1991 - acc: 0.9290 - val_loss: 0.2361 - val_acc: 0.9103\n",
      "Epoch 11/30\n",
      "54000/54000 [==============================] - 10s 184us/sample - loss: 0.1969 - acc: 0.9299 - val_loss: 0.2395 - val_acc: 0.9133\n",
      "Epoch 12/30\n",
      "54000/54000 [==============================] - 8s 157us/sample - loss: 0.1928 - acc: 0.9309 - val_loss: 0.2404 - val_acc: 0.9095\n",
      "Epoch 13/30\n",
      "54000/54000 [==============================] - 9s 158us/sample - loss: 0.1903 - acc: 0.9319 - val_loss: 0.2416 - val_acc: 0.9078\n",
      "Epoch 14/30\n",
      "54000/54000 [==============================] - 9s 164us/sample - loss: 0.1871 - acc: 0.9340 - val_loss: 0.2371 - val_acc: 0.9107\n",
      "Epoch 15/30\n",
      "54000/54000 [==============================] - 9s 166us/sample - loss: 0.1843 - acc: 0.9348 - val_loss: 0.2456 - val_acc: 0.9067\n",
      "Epoch 16/30\n",
      "54000/54000 [==============================] - 9s 162us/sample - loss: 0.1803 - acc: 0.9354 - val_loss: 0.2461 - val_acc: 0.9063\n",
      "Epoch 17/30\n",
      "54000/54000 [==============================] - 9s 163us/sample - loss: 0.1781 - acc: 0.9365 - val_loss: 0.2697 - val_acc: 0.8995\n",
      "Epoch 18/30\n",
      "54000/54000 [==============================] - 8s 155us/sample - loss: 0.1751 - acc: 0.9379 - val_loss: 0.2326 - val_acc: 0.9123\n",
      "Epoch 19/30\n",
      "54000/54000 [==============================] - 8s 155us/sample - loss: 0.1718 - acc: 0.9394 - val_loss: 0.2520 - val_acc: 0.9062\n",
      "Epoch 20/30\n",
      "54000/54000 [==============================] - 8s 152us/sample - loss: 0.1688 - acc: 0.9396 - val_loss: 0.2368 - val_acc: 0.9108\n",
      "Epoch 21/30\n",
      "54000/54000 [==============================] - 8s 153us/sample - loss: 0.1669 - acc: 0.9403 - val_loss: 0.2496 - val_acc: 0.9098\n",
      "Epoch 22/30\n",
      "54000/54000 [==============================] - 9s 159us/sample - loss: 0.1636 - acc: 0.9414 - val_loss: 0.2370 - val_acc: 0.9098\n",
      "Epoch 23/30\n",
      "54000/54000 [==============================] - 9s 164us/sample - loss: 0.1615 - acc: 0.9424 - val_loss: 0.2410 - val_acc: 0.9083\n",
      "Epoch 24/30\n",
      "54000/54000 [==============================] - 9s 158us/sample - loss: 0.1589 - acc: 0.9439 - val_loss: 0.2456 - val_acc: 0.9090\n",
      "Epoch 25/30\n",
      "54000/54000 [==============================] - 9s 160us/sample - loss: 0.1555 - acc: 0.9456 - val_loss: 0.2592 - val_acc: 0.9080\n",
      "Epoch 26/30\n",
      "54000/54000 [==============================] - 8s 157us/sample - loss: 0.1538 - acc: 0.9451 - val_loss: 0.2465 - val_acc: 0.9097\n",
      "Epoch 27/30\n",
      "54000/54000 [==============================] - 9s 160us/sample - loss: 0.1511 - acc: 0.9470 - val_loss: 0.2471 - val_acc: 0.9088\n",
      "Epoch 28/30\n",
      "54000/54000 [==============================] - 9s 160us/sample - loss: 0.1476 - acc: 0.9476 - val_loss: 0.2565 - val_acc: 0.9055\n",
      "Epoch 29/30\n",
      "54000/54000 [==============================] - 8s 155us/sample - loss: 0.1461 - acc: 0.9485 - val_loss: 0.2510 - val_acc: 0.9058\n",
      "Epoch 30/30\n",
      "54000/54000 [==============================] - 9s 161us/sample - loss: 0.1435 - acc: 0.9491 - val_loss: 0.2488 - val_acc: 0.9067\n"
     ]
    }
   ],
   "source": [
    "history1=model.fit(X_train_full/255.0,y_train_full,epochs=30,validation_split=0.1)"
   ]
  },
  {
   "cell_type": "code",
   "execution_count": 60,
   "metadata": {
    "colab": {
     "base_uri": "https://localhost:8080/",
     "height": 136
    },
    "colab_type": "code",
    "id": "PKdIRCC8QiHm",
    "outputId": "7b5b0022-cdaa-493b-9c2f-864c4c2943ab"
   },
   "outputs": [
    {
     "data": {
      "text/plain": [
       "{'batch_size': 32,\n",
       " 'do_validation': True,\n",
       " 'epochs': 30,\n",
       " 'metrics': ['loss', 'acc', 'val_loss', 'val_acc'],\n",
       " 'samples': 55000,\n",
       " 'steps': None,\n",
       " 'verbose': 0}"
      ]
     },
     "execution_count": 60,
     "metadata": {
      "tags": []
     },
     "output_type": "execute_result"
    }
   ],
   "source": [
    "history.params"
   ]
  },
  {
   "cell_type": "code",
   "execution_count": 55,
   "metadata": {
    "colab": {
     "base_uri": "https://localhost:8080/",
     "height": 527
    },
    "colab_type": "code",
    "id": "j1qlZovdQnjq",
    "outputId": "457b22c8-3441-4038-cbfa-6162c9dc1de3"
   },
   "outputs": [
    {
     "data": {
      "text/plain": [
       "[0,\n",
       " 1,\n",
       " 2,\n",
       " 3,\n",
       " 4,\n",
       " 5,\n",
       " 6,\n",
       " 7,\n",
       " 8,\n",
       " 9,\n",
       " 10,\n",
       " 11,\n",
       " 12,\n",
       " 13,\n",
       " 14,\n",
       " 15,\n",
       " 16,\n",
       " 17,\n",
       " 18,\n",
       " 19,\n",
       " 20,\n",
       " 21,\n",
       " 22,\n",
       " 23,\n",
       " 24,\n",
       " 25,\n",
       " 26,\n",
       " 27,\n",
       " 28,\n",
       " 29]"
      ]
     },
     "execution_count": 55,
     "metadata": {
      "tags": []
     },
     "output_type": "execute_result"
    }
   ],
   "source": [
    "history.epoch"
   ]
  },
  {
   "cell_type": "code",
   "execution_count": 61,
   "metadata": {
    "colab": {
     "base_uri": "https://localhost:8080/",
     "height": 324
    },
    "colab_type": "code",
    "id": "RM-S2k7DQrWt",
    "outputId": "37843a84-0f13-4bc1-fe21-d65b650ef12f"
   },
   "outputs": [
    {
     "data": {
      "image/png": "[encoded data removed]",
      "text/plain": [
       "<Figure size 576x360 with 1 Axes>"
      ]
     },
     "metadata": {
      "tags": []
     },
     "output_type": "display_data"
    }
   ],
   "source": [
    "import pandas as pd\n",
    "import matplotlib.pyplot as plt\n",
    "pd.DataFrame(history.history).plot(figsize=[8,5])\n",
    "plt.grid(True)\n",
    "plt.gca().set_ylim(0,1)\n",
    "plt.legend()\n",
    "plt.show()"
   ]
  },
  {
   "cell_type": "code",
   "execution_count": 62,
   "metadata": {
    "colab": {
     "base_uri": "https://localhost:8080/",
     "height": 51
    },
    "colab_type": "code",
    "id": "AADbAOXVRUZO",
    "outputId": "aae550d2-48f9-4962-ab6e-ee3e319d5faf"
   },
   "outputs": [
    {
     "name": "stdout",
     "output_type": "stream",
     "text": [
      "10000/10000 [==============================] - 1s 63us/sample - loss: 2.4332 - acc: 0.8471\n"
     ]
    },
    {
     "data": {
      "text/plain": [
       "[2.433238965034483, 0.8471]"
      ]
     },
     "execution_count": 62,
     "metadata": {
      "tags": []
     },
     "output_type": "execute_result"
    }
   ],
   "source": [
    "model.evaluate(X_test,y_test)#gives loss and accuracy "
   ]
  },
  {
   "cell_type": "code",
   "execution_count": 53,
   "metadata": {
    "colab": {
     "base_uri": "https://localhost:8080/",
     "height": 68
    },
    "colab_type": "code",
    "id": "0zlhX5vHRbhY",
    "outputId": "45464639-50e9-4602-a1ed-b8c010acb73e"
   },
   "outputs": [
    {
     "data": {
      "text/plain": [
       "array([[0., 0., 0., 0., 0., 0., 0., 0., 0., 1.],\n",
       "       [0., 0., 1., 0., 0., 0., 0., 0., 0., 0.],\n",
       "       [0., 1., 0., 0., 0., 0., 0., 0., 0., 0.]], dtype=float32)"
      ]
     },
     "execution_count": 53,
     "metadata": {
      "tags": []
     },
     "output_type": "execute_result"
    }
   ],
   "source": [
    "\n",
    "X_new=X_test[:3]\n",
    "y_proba=model.predict(X_new)\n",
    "y_proba.round(2)"
   ]
  },
  {
   "cell_type": "code",
   "execution_count": 63,
   "metadata": {
    "colab": {
     "base_uri": "https://localhost:8080/",
     "height": 34
    },
    "colab_type": "code",
    "id": "YPQaF63oRrid",
    "outputId": "faa59ea2-85a9-44bb-c959-91b09642b7fe"
   },
   "outputs": [
    {
     "data": {
      "text/plain": [
       "array([9, 2, 1])"
      ]
     },
     "execution_count": 63,
     "metadata": {
      "tags": []
     },
     "output_type": "execute_result"
    }
   ],
   "source": [
    "model.predict_classes(X_new)"
   ]
  },
  {
   "cell_type": "code",
   "execution_count": 0,
   "metadata": {
    "colab": {},
    "colab_type": "code",
    "id": "c1xGYwq7UCqj"
   },
   "outputs": [],
   "source": [
    "#keras has predefined warm state"
   ]
  }
 ],
 "metadata": {
  "colab": {
   "collapsed_sections": [],
   "name": "fmnist in keras.ipynb",
   "provenance": [],
   "version": "0.3.2"
  },
  "kernelspec": {
   "display_name": "Python 3",
   "language": "python",
   "name": "python3"
  },
  "language_info": {
   "codemirror_mode": {
    "name": "ipython",
    "version": 3
   },
   "file_extension": ".py",
   "mimetype": "text/x-python",
   "name": "python",
   "nbconvert_exporter": "python",
   "pygments_lexer": "ipython3",
   "version": "3.6.5"
  }
 },
 "nbformat": 4,
 "nbformat_minor": 1
}
