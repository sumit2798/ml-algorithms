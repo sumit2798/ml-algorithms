{
 "cells": [
  {
   "cell_type": "code",
   "execution_count": 1,
   "metadata": {
    "colab": {},
    "colab_type": "code",
    "id": "6SeT2Akz4C_A"
   },
   "outputs": [
    {
     "ename": "ImportError",
     "evalue": "cannot import name 'mnist'",
     "output_type": "error",
     "traceback": [
      "\u001b[1;31m---------------------------------------------------------------------------\u001b[0m",
      "\u001b[1;31mImportError\u001b[0m                               Traceback (most recent call last)",
      "\u001b[1;32m<ipython-input-1-7e518910b8f5>\u001b[0m in \u001b[0;36m<module>\u001b[1;34m()\u001b[0m\n\u001b[0;32m      1\u001b[0m \u001b[1;32mimport\u001b[0m \u001b[0mnumpy\u001b[0m \u001b[1;32mas\u001b[0m \u001b[0mnp\u001b[0m\u001b[1;33m\u001b[0m\u001b[0m\n\u001b[1;32m----> 2\u001b[1;33m \u001b[1;32mfrom\u001b[0m \u001b[0msklearn\u001b[0m\u001b[1;33m.\u001b[0m\u001b[0mdatasets\u001b[0m \u001b[1;32mimport\u001b[0m \u001b[0mmnist\u001b[0m\u001b[1;33m\u001b[0m\u001b[0m\n\u001b[0m\u001b[0;32m      3\u001b[0m \u001b[0mX\u001b[0m\u001b[1;33m=\u001b[0m\u001b[0mmnist\u001b[0m\u001b[1;33m.\u001b[0m\u001b[0mdata\u001b[0m\u001b[1;33m\u001b[0m\u001b[0m\n\u001b[0;32m      4\u001b[0m \u001b[0mY\u001b[0m\u001b[1;33m=\u001b[0m\u001b[1;33m(\u001b[0m\u001b[0mmnist\u001b[0m\u001b[1;33m.\u001b[0m\u001b[0mtarget\u001b[0m\u001b[1;33m==\u001b[0m\u001b[1;34m'5'\u001b[0m\u001b[1;33m)\u001b[0m\u001b[1;33m.\u001b[0m\u001b[0mastype\u001b[0m\u001b[1;33m(\u001b[0m\u001b[0mnp\u001b[0m\u001b[1;33m.\u001b[0m\u001b[0mint32\u001b[0m\u001b[1;33m)\u001b[0m\u001b[1;33m\u001b[0m\u001b[0m\n\u001b[0;32m      5\u001b[0m \u001b[1;31m#used to conver the polynomial to binary\u001b[0m\u001b[1;33m\u001b[0m\u001b[1;33m\u001b[0m\u001b[0m\n",
      "\u001b[1;31mImportError\u001b[0m: cannot import name 'mnist'"
     ]
    }
   ],
   "source": [
    "import numpy as np\n",
    "from sklearn.datasets import mnist\n",
    "X=mnist.data\n",
    "Y=(mnist.target=='5').astype(np.int32)\n",
    "#used to conver the polynomial to binary\n",
    "#it also checks and add soution to the statements"
   ]
  },
  {
   "cell_type": "code",
   "execution_count": null,
   "metadata": {
    "colab": {},
    "colab_type": "code",
    "id": "dkaR5WXg7EWM"
   },
   "outputs": [],
   "source": []
  },
  {
   "cell_type": "code",
   "execution_count": null,
   "metadata": {
    "colab": {
     "base_uri": "https://localhost:8080/",
     "height": 265
    },
    "colab_type": "code",
    "id": "O7P_Ul61526Y",
    "outputId": "267eb2b7-1270-422e-947c-e043e875ea35"
   },
   "outputs": [],
   "source": [
    "import matplotlib as mpl\n",
    "import matplotlib.pyplot as plt\n",
    "sd=X[0]\n",
    "sdi=sd.reshape(28,28)\n",
    "plt.imshow(sdi,cmap=mpl.cm.binary,interpolation=\"nearest\")\n",
    "plt.axis(\"off\")\n",
    "plt.show()"
   ]
  },
  {
   "cell_type": "code",
   "execution_count": null,
   "metadata": {
    "colab": {},
    "colab_type": "code",
    "id": "1AGRH-Qh-YdX"
   },
   "outputs": [],
   "source": [
    "from sklearn.model_selection import train_test_split\n"
   ]
  },
  {
   "cell_type": "code",
   "execution_count": null,
   "metadata": {
    "colab": {},
    "colab_type": "code",
    "id": "M9qW2GONAkkq"
   },
   "outputs": [],
   "source": [
    " X_train, X_test, y_train, y_test = train_test_split(X, Y, test_size=0.33, random_state=28)"
   ]
  },
  {
   "cell_type": "code",
   "execution_count": null,
   "metadata": {
    "colab": {
     "base_uri": "https://localhost:8080/",
     "height": 34
    },
    "colab_type": "code",
    "id": "8vzsGETJ15IP",
    "outputId": "1f2e4b11-57e8-4949-aaaf-51022c710110"
   },
   "outputs": [],
   "source": [
    "from sklearn.datasets import fetch_openml\n",
    "mnist=fetch_openml('mnist_784',version=1)\n",
    "mnist.keys()\n",
    "type(mnist)"
   ]
  },
  {
   "cell_type": "code",
   "execution_count": null,
   "metadata": {
    "colab": {},
    "colab_type": "code",
    "id": "zWDh3HoSA_yo"
   },
   "outputs": [],
   "source": [
    "from sklearn.linear_model import SGDClassifier"
   ]
  },
  {
   "cell_type": "code",
   "execution_count": null,
   "metadata": {
    "colab": {},
    "colab_type": "code",
    "id": "EzEK8VoJBeEF"
   },
   "outputs": [],
   "source": [
    "f=SGDClassifier(loss='hinge',penalty=None, max_iter=1000,learning_rate='constant',eta0=0.5)"
   ]
  },
  {
   "cell_type": "code",
   "execution_count": null,
   "metadata": {
    "colab": {
     "base_uri": "https://localhost:8080/",
     "height": 119
    },
    "colab_type": "code",
    "id": "2Re_WjWXCLza",
    "outputId": "f4dc038e-3898-4ff7-d4b4-7505cafdc17c"
   },
   "outputs": [],
   "source": [
    "f.fit(X_train,y_train)"
   ]
  },
  {
   "cell_type": "code",
   "execution_count": null,
   "metadata": {
    "colab": {
     "base_uri": "https://localhost:8080/",
     "height": 34
    },
    "colab_type": "code",
    "id": "XrC7fCLrCn18",
    "outputId": "09168a70-76d8-43e1-bf52-9fde94bc6d35"
   },
   "outputs": [],
   "source": [
    "f.predict(X_test)"
   ]
  },
  {
   "cell_type": "code",
   "execution_count": null,
   "metadata": {
    "colab": {},
    "colab_type": "code",
    "id": "Vr19Tcm7FOID"
   },
   "outputs": [],
   "source": [
    "from sklearn.model_selection import cross_val_score"
   ]
  },
  {
   "cell_type": "code",
   "execution_count": null,
   "metadata": {
    "colab": {},
    "colab_type": "code",
    "id": "WXgc7xvSIMUb"
   },
   "outputs": [],
   "source": [
    "score=cross_val_score(f,X_train,y_train,scoring='accuracy', cv=3)"
   ]
  },
  {
   "cell_type": "code",
   "execution_count": null,
   "metadata": {
    "colab": {
     "base_uri": "https://localhost:8080/",
     "height": 34
    },
    "colab_type": "code",
    "id": "gVPiAHEeIdMU",
    "outputId": "5221099b-b61b-463f-8361-358732e92671"
   },
   "outputs": [],
   "source": [
    "score"
   ]
  },
  {
   "cell_type": "code",
   "execution_count": null,
   "metadata": {
    "colab": {},
    "colab_type": "code",
    "id": "u5LFE5tYIkNH"
   },
   "outputs": [],
   "source": [
    "from sklearn.model_selection import StratifiedKFold\n"
   ]
  },
  {
   "cell_type": "code",
   "execution_count": null,
   "metadata": {
    "colab": {},
    "colab_type": "code",
    "id": "PBaiCk7YKsk2"
   },
   "outputs": [],
   "source": [
    "#K-fold custom\n",
    "sk=StratifiedKFold(n_splits=3,random_state=42)"
   ]
  },
  {
   "cell_type": "code",
   "execution_count": null,
   "metadata": {
    "colab": {
     "base_uri": "https://localhost:8080/",
     "height": 68
    },
    "colab_type": "code",
    "id": "biW08-aGK1iK",
    "outputId": "dd67a61e-9129-4a65-c8d3-844464736a0c"
   },
   "outputs": [],
   "source": [
    "from sklearn.base import clone\n",
    "for train_index,test_index in sk.split(X_train,y_train):\n",
    "  sgd_clone=clone(f)\n",
    "  X_train_folds=X_train[train_index]\n",
    "  y_train_folds=y_train[train_index]\n",
    "  X_test_fold=X_train[test_index]\n",
    "  y_test_fold=y_train[test_index]\n",
    "  sgd_clone.fit(X_train_folds,y_train_folds)\n",
    "  prediction=sgd_clone.predict(X_test_fold)\n",
    "  num_correct=sum(prediction == y_test_fold)\n",
    "  score=num_correct/len(prediction)\n",
    "  print(score)\n",
    "  \n",
    "  "
   ]
  },
  {
   "cell_type": "code",
   "execution_count": null,
   "metadata": {
    "colab": {},
    "colab_type": "code",
    "id": "vYDrhMdlPJUJ"
   },
   "outputs": [],
   "source": [
    "from sklearn.model_selection import cross_val_predict"
   ]
  },
  {
   "cell_type": "code",
   "execution_count": null,
   "metadata": {
    "colab": {},
    "colab_type": "code",
    "id": "P2AiJ_IRDuVZ"
   },
   "outputs": [],
   "source": [
    "y_preds=cross_val_predict(f,X_train,y_train,cv=3)\n"
   ]
  },
  {
   "cell_type": "code",
   "execution_count": null,
   "metadata": {
    "colab": {},
    "colab_type": "code",
    "id": "oA8ta5RJD2Lz"
   },
   "outputs": [],
   "source": [
    "from sklearn.metrics import confusion_matrix"
   ]
  },
  {
   "cell_type": "code",
   "execution_count": null,
   "metadata": {
    "colab": {},
    "colab_type": "code",
    "id": "J5_9cOGBFQBS"
   },
   "outputs": [],
   "source": [
    "conf=confusion_matrix(y_train,y_preds)"
   ]
  },
  {
   "cell_type": "code",
   "execution_count": null,
   "metadata": {
    "colab": {
     "base_uri": "https://localhost:8080/",
     "height": 51
    },
    "colab_type": "code",
    "id": "SJQ556HYFYD9",
    "outputId": "303b12f4-12ea-4f37-cdcb-270d04f3b654"
   },
   "outputs": [],
   "source": [
    "conf"
   ]
  },
  {
   "cell_type": "code",
   "execution_count": null,
   "metadata": {
    "colab": {},
    "colab_type": "code",
    "id": "Pjg6NkTEFY4y"
   },
   "outputs": [],
   "source": [
    "conf1=confusion_matrix(y_train,y_train)"
   ]
  },
  {
   "cell_type": "code",
   "execution_count": null,
   "metadata": {
    "colab": {
     "base_uri": "https://localhost:8080/",
     "height": 51
    },
    "colab_type": "code",
    "id": "VIg2eyaYFdRG",
    "outputId": "611abe4b-9c76-4039-f5f5-e2e78a58f943"
   },
   "outputs": [],
   "source": [
    "conf1"
   ]
  },
  {
   "cell_type": "code",
   "execution_count": null,
   "metadata": {
    "colab": {},
    "colab_type": "code",
    "id": "x1J5AuqvFep9"
   },
   "outputs": [],
   "source": [
    "from sklearn.metrics import precision_score,recall_score,f1_score"
   ]
  },
  {
   "cell_type": "code",
   "execution_count": null,
   "metadata": {
    "colab": {
     "base_uri": "https://localhost:8080/",
     "height": 34
    },
    "colab_type": "code",
    "id": "uTS9MGjgI_Ul",
    "outputId": "430baf9e-9225-44d6-e90d-904c6e5a864f"
   },
   "outputs": [],
   "source": [
    "precision_score(y_train,y_preds)"
   ]
  },
  {
   "cell_type": "code",
   "execution_count": null,
   "metadata": {
    "colab": {
     "base_uri": "https://localhost:8080/",
     "height": 34
    },
    "colab_type": "code",
    "id": "FkJDkjqrJGDD",
    "outputId": "bb0ad052-b406-4c24-e5b7-396c69bafff3"
   },
   "outputs": [],
   "source": [
    "recall_score(y_train,y_preds)"
   ]
  },
  {
   "cell_type": "code",
   "execution_count": null,
   "metadata": {
    "colab": {
     "base_uri": "https://localhost:8080/",
     "height": 34
    },
    "colab_type": "code",
    "id": "1kuzz_VFJeT2",
    "outputId": "7e6df279-9f7a-45d4-e90f-4baf78a0da13"
   },
   "outputs": [],
   "source": [
    "f1_score(y_train,y_preds)\n"
   ]
  },
  {
   "cell_type": "code",
   "execution_count": null,
   "metadata": {
    "colab": {
     "base_uri": "https://localhost:8080/",
     "height": 34
    },
    "colab_type": "code",
    "id": "etgOp7FjJoIm",
    "outputId": "b4ee70fc-3ae7-4c2d-c980-8f46cbbaea2a"
   },
   "outputs": [],
   "source": [
    "f.predict([X[0]])"
   ]
  },
  {
   "cell_type": "code",
   "execution_count": null,
   "metadata": {
    "colab": {},
    "colab_type": "code",
    "id": "2bURPteRMsmC"
   },
   "outputs": [],
   "source": [
    "df=f.decision_function"
   ]
  },
  {
   "cell_type": "code",
   "execution_count": null,
   "metadata": {
    "colab": {},
    "colab_type": "code",
    "id": "i-bNLiOXM7wA"
   },
   "outputs": [],
   "source": [
    "score=df([X[0]])"
   ]
  },
  {
   "cell_type": "code",
   "execution_count": null,
   "metadata": {
    "colab": {
     "base_uri": "https://localhost:8080/",
     "height": 34
    },
    "colab_type": "code",
    "id": "IoDEInBnNGST",
    "outputId": "b074056d-9d63-4d00-f8f3-c1bb9dfe7b0d"
   },
   "outputs": [],
   "source": [
    "score\n"
   ]
  },
  {
   "cell_type": "code",
   "execution_count": null,
   "metadata": {
    "colab": {},
    "colab_type": "code",
    "id": "CYr5NLW2NI3f"
   },
   "outputs": [],
   "source": [
    "y_score=cross_val_predict(f,X_train,y_train,cv=3, method='decision_function')"
   ]
  },
  {
   "cell_type": "code",
   "execution_count": null,
   "metadata": {
    "colab": {
     "base_uri": "https://localhost:8080/",
     "height": 51
    },
    "colab_type": "code",
    "id": "yx6qKMgeOyXS",
    "outputId": "1ccea4dc-0d6b-4ef4-d15b-d10fc924a6e5"
   },
   "outputs": [],
   "source": [
    "y_score"
   ]
  },
  {
   "cell_type": "code",
   "execution_count": null,
   "metadata": {
    "colab": {},
    "colab_type": "code",
    "id": "JuRnh61aPAsu"
   },
   "outputs": [],
   "source": [
    "from sklearn.metrics import precision_recall_curve"
   ]
  },
  {
   "cell_type": "code",
   "execution_count": null,
   "metadata": {
    "colab": {},
    "colab_type": "code",
    "id": "4jfT_EJhPXA7"
   },
   "outputs": [],
   "source": [
    "precision,recalls,threshold=precision_recall_curve(y_train,y_score)"
   ]
  },
  {
   "cell_type": "code",
   "execution_count": null,
   "metadata": {
    "colab": {
     "base_uri": "https://localhost:8080/",
     "height": 283
    },
    "colab_type": "code",
    "id": "vJxAh35rPvIN",
    "outputId": "388929ad-5929-46b9-8ed8-bf29be479f79"
   },
   "outputs": [],
   "source": [
    "def plot(precision,recalls,thresholds):\n",
    "  plt.plot(thresholds,precision[:-1],'b-',label=\"precision\")#b- represent solid line\n",
    "  plt.plot(thresholds,recalls[:-1],'g--',label=\"recalls\")#g-- reprent green dotted line\n",
    "  plt.xlabel(\"Thresholds\")\n",
    "  plt.legend(loc='center left')\n",
    "  plt.ylim(0,1)\n",
    "plot(precision,recalls,threshold)\n",
    "plt.show()"
   ]
  },
  {
   "cell_type": "code",
   "execution_count": null,
   "metadata": {
    "colab": {},
    "colab_type": "code",
    "id": "l8iGfwUMQ2cp"
   },
   "outputs": [],
   "source": [
    "m=threshold[np.argmax(precision>=0.9)]"
   ]
  },
  {
   "cell_type": "code",
   "execution_count": null,
   "metadata": {
    "colab": {
     "base_uri": "https://localhost:8080/",
     "height": 34
    },
    "colab_type": "code",
    "id": "wZdMP2y8Vb6m",
    "outputId": "a375e254-43ac-438f-d2fb-c66d050a6b26"
   },
   "outputs": [],
   "source": [
    "precision[43524]\n"
   ]
  },
  {
   "cell_type": "code",
   "execution_count": null,
   "metadata": {
    "colab": {},
    "colab_type": "code",
    "id": "htueBWkUVju-"
   },
   "outputs": [],
   "source": [
    "y=y_score>=m"
   ]
  },
  {
   "cell_type": "code",
   "execution_count": null,
   "metadata": {
    "colab": {
     "base_uri": "https://localhost:8080/",
     "height": 34
    },
    "colab_type": "code",
    "id": "LTFb-QwwWZFd",
    "outputId": "cc979aef-9d67-4cd6-f2d8-838ab83aa6d7"
   },
   "outputs": [],
   "source": [
    "precision_score(y_train,y)"
   ]
  },
  {
   "cell_type": "code",
   "execution_count": null,
   "metadata": {
    "colab": {
     "base_uri": "https://localhost:8080/",
     "height": 34
    },
    "colab_type": "code",
    "id": "nAXR55UEX7pI",
    "outputId": "feaa0cf6-e79c-470e-db36-f24a870b3a35"
   },
   "outputs": [],
   "source": [
    "\n",
    "recall_score(y_train,y)"
   ]
  },
  {
   "cell_type": "code",
   "execution_count": null,
   "metadata": {
    "colab": {},
    "colab_type": "code",
    "id": "K8i_pW5AYDml"
   },
   "outputs": [],
   "source": [
    "score=df([X[0]])\n",
    "z=y_score>=score"
   ]
  },
  {
   "cell_type": "code",
   "execution_count": null,
   "metadata": {
    "colab": {
     "base_uri": "https://localhost:8080/",
     "height": 34
    },
    "colab_type": "code",
    "id": "FO-CSgCYZLPM",
    "outputId": "8a0dba6b-308a-4ea9-e295-8c9f2e26afde"
   },
   "outputs": [],
   "source": [
    "precision_score(y_train,z)"
   ]
  },
  {
   "cell_type": "code",
   "execution_count": 77,
   "metadata": {
    "colab": {
     "base_uri": "https://localhost:8080/",
     "height": 34
    },
    "colab_type": "code",
    "id": "9aWKTZRtZPwE",
    "outputId": "256e922d-e635-4769-909c-c2472bc9bed0"
   },
   "outputs": [
    {
     "data": {
      "text/plain": [
       "0.27727703984819735"
      ]
     },
     "execution_count": 77,
     "metadata": {
      "tags": []
     },
     "output_type": "execute_result"
    }
   ],
   "source": [
    "recall_score(y_train,z)"
   ]
  },
  {
   "cell_type": "code",
   "execution_count": null,
   "metadata": {
    "colab": {},
    "colab_type": "code",
    "id": "2HpFpnzqZXMC"
   },
   "outputs": [],
   "source": []
  }
 ],
 "metadata": {
  "colab": {
   "collapsed_sections": [],
   "name": "Classificatin.ipynb",
   "provenance": [],
   "version": "0.3.2"
  },
  "kernelspec": {
   "display_name": "Python 3",
   "language": "python",
   "name": "python3"
  },
  "language_info": {
   "codemirror_mode": {
    "name": "ipython",
    "version": 3
   },
   "file_extension": ".py",
   "mimetype": "text/x-python",
   "name": "python",
   "nbconvert_exporter": "python",
   "pygments_lexer": "ipython3",
   "version": "3.6.5"
  }
 },
 "nbformat": 4,
 "nbformat_minor": 2
}
