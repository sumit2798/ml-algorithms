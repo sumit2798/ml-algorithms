{
 "cells": [
  {
   "cell_type": "code",
   "execution_count": 1,
   "metadata": {},
   "outputs": [
    {
     "ename": "IndentationError",
     "evalue": "unindent does not match any outer indentation level (<ipython-input-1-943924ce2fcd>, line 8)",
     "output_type": "error",
     "traceback": [
      "\u001b[1;36m  File \u001b[1;32m\"<ipython-input-1-943924ce2fcd>\"\u001b[1;36m, line \u001b[1;32m8\u001b[0m\n\u001b[1;33m    def res(self,t):\u001b[0m\n\u001b[1;37m                    ^\u001b[0m\n\u001b[1;31mIndentationError\u001b[0m\u001b[1;31m:\u001b[0m unindent does not match any outer indentation level\n"
     ]
    }
   ],
   "source": [
    "import numpy as np\n",
    "class MinSGD:\n",
    "     def __init__(self,t0,t1,ins):\n",
    "        self.t0=t0\n",
    "        self.t1=t1\n",
    "        self.ins=ins\n",
    "        self.theta=np.random.randn(2,1)\n",
    "    def res(self,t):\n",
    "        self.t0/(t+self.t1)\n",
    "    def fit(x,y):\n",
    "        for epo in range(self.ins):\n",
    "            for i in range(m):\n",
    "                for j in range(0,3):\n",
    "                    random_index=np.random.randint(self.m)\n",
    "                    xi=x[random_index:random_index+1]\n",
    "                    yi=y[random_index:random_index+1]\n",
    "                    gradient=2*xi.dot(xi.dot(self.theta)-yi)\n",
    "                    eta=self.res(self.ins*m+i)\n",
    "                    self.theta=self.theta-(eta*gradient)\n",
    "    return self\n",
    "   "
   ]
  },
  {
   "cell_type": "code",
   "execution_count": null,
   "metadata": {},
   "outputs": [],
   "source": []
  }
 ],
 "metadata": {
  "kernelspec": {
   "display_name": "Python 3",
   "language": "python",
   "name": "python3"
  },
  "language_info": {
   "codemirror_mode": {
    "name": "ipython",
    "version": 3
   },
   "file_extension": ".py",
   "mimetype": "text/x-python",
   "name": "python",
   "nbconvert_exporter": "python",
   "pygments_lexer": "ipython3",
   "version": "3.6.5"
  }
 },
 "nbformat": 4,
 "nbformat_minor": 2
}
