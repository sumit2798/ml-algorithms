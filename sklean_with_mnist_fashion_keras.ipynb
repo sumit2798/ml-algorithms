{
 "cells": [
  {
   "cell_type": "code",
   "execution_count": 0,
   "metadata": {
    "colab": {},
    "colab_type": "code",
    "id": "I4ckG9nxGqdF"
   },
   "outputs": [],
   "source": [
    "import tensorflow as tf\n",
    "from tensorflow import keras\n",
    "from sklearn.datasets import fetch_openml\n",
    "mnist=fetch_openml('mnist_784',version=1)\n",
    "mnist.keys()\n",
    "import numpy as np"
   ]
  },
  {
   "cell_type": "code",
   "execution_count": 0,
   "metadata": {
    "colab": {
     "base_uri": "https://localhost:8080/",
     "height": 34
    },
    "colab_type": "code",
    "id": "HWJOjvBVGvVh",
    "outputId": "0003959c-609d-4ac2-9a94-0ba53a043dbc"
   },
   "outputs": [
    {
     "data": {
      "text/plain": [
       "'1.13.1'"
      ]
     },
     "execution_count": 2,
     "metadata": {
      "tags": []
     },
     "output_type": "execute_result"
    }
   ],
   "source": [
    "tf.__version__"
   ]
  },
  {
   "cell_type": "code",
   "execution_count": 0,
   "metadata": {
    "colab": {
     "base_uri": "https://localhost:8080/",
     "height": 34
    },
    "colab_type": "code",
    "id": "KQ7xukG9G15o",
    "outputId": "dc210dd5-94b3-4566-9245-27b2104b5383"
   },
   "outputs": [
    {
     "data": {
      "text/plain": [
       "'2.2.4-tf'"
      ]
     },
     "execution_count": 3,
     "metadata": {
      "tags": []
     },
     "output_type": "execute_result"
    }
   ],
   "source": [
    "keras.__version__"
   ]
  },
  {
   "cell_type": "code",
   "execution_count": 0,
   "metadata": {
    "colab": {},
    "colab_type": "code",
    "id": "PYWqNUs4Qj4J"
   },
   "outputs": [],
   "source": [
    "x=mnist.data\n",
    "y=mnist.target"
   ]
  },
  {
   "cell_type": "code",
   "execution_count": 0,
   "metadata": {
    "colab": {},
    "colab_type": "code",
    "id": "itopQnLuP9Tt"
   },
   "outputs": [],
   "source": [
    "from sklearn.model_selection import train_test_split\n",
    "x_train,x_test,y_train,y_test=train_test_split(x,y,test_size=0.2)"
   ]
  },
  {
   "cell_type": "code",
   "execution_count": 0,
   "metadata": {
    "colab": {},
    "colab_type": "code",
    "id": "pKa15Qj5QTxb"
   },
   "outputs": [],
   "source": [
    "#x_train_1,x_valid,y_train_1,y_valid=train_test_split(x_train,y_train,test_size=0.2)"
   ]
  },
  {
   "cell_type": "code",
   "execution_count": 0,
   "metadata": {
    "colab": {},
    "colab_type": "code",
    "id": "RSwoGp-EG7eM"
   },
   "outputs": [],
   "source": [
    "\"\"\"fashion_mnist=keras.datasets.fashion_mnist#here we have take handwriiten digit data\n",
    "(x_train_full,y_train_full),(x_test,y_test)=fashion_mnist.load_data()# we have taken fashion mnist vdataset\"\"\""
   ]
  },
  {
   "cell_type": "code",
   "execution_count": 0,
   "metadata": {
    "colab": {},
    "colab_type": "code",
    "id": "OSw82ei7HCl-"
   },
   "outputs": [],
   "source": [
    "fashion_mnist=keras.datasets.fashion_mnist#it is fashion data set any datset you can use to fit\n",
    "(x_train_full,y_train_full),(x_test,y_test)=fashion_mnist.load_data()"
   ]
  },
  {
   "cell_type": "code",
   "execution_count": 0,
   "metadata": {
    "colab": {
     "base_uri": "https://localhost:8080/",
     "height": 34
    },
    "colab_type": "code",
    "id": "bqun1uAAHos7",
    "outputId": "27aa3647-7aec-4660-8015-f1a0e592f6de"
   },
   "outputs": [
    {
     "data": {
      "text/plain": [
       "(60000, 28, 28)"
      ]
     },
     "execution_count": 39,
     "metadata": {
      "tags": []
     },
     "output_type": "execute_result"
    }
   ],
   "source": [
    "x_train_full.shape"
   ]
  },
  {
   "cell_type": "code",
   "execution_count": 0,
   "metadata": {
    "colab": {
     "base_uri": "https://localhost:8080/",
     "height": 34
    },
    "colab_type": "code",
    "id": "t2JJftreHtKX",
    "outputId": "d0907958-e8f8-429b-80f9-8ffa9509ab9d"
   },
   "outputs": [
    {
     "data": {
      "text/plain": [
       "dtype('uint8')"
      ]
     },
     "execution_count": 40,
     "metadata": {
      "tags": []
     },
     "output_type": "execute_result"
    }
   ],
   "source": [
    "x_train_full.dtype"
   ]
  },
  {
   "cell_type": "code",
   "execution_count": 0,
   "metadata": {
    "colab": {},
    "colab_type": "code",
    "id": "lijLrmFAHyVC"
   },
   "outputs": [],
   "source": [
    "x_valid,x_train=x_train[:5000]/255.0,x_train[5000:]/255.0# here we have divided first 5000 instances and next 5000 instances by 255(there are 256 pixels) becoz we need to make change the image shape to  two dimensional \n",
    "y_valid,y_train=y_train[:5000],y_train[5000:]"
   ]
  },
  {
   "cell_type": "code",
   "execution_count": 0,
   "metadata": {
    "colab": {},
    "colab_type": "code",
    "id": "U5M0ikVDDe6e"
   },
   "outputs": [],
   "source": [
    "#x_valid and y_valid is the test set and x_train and y_train is the train set we have actually split the dataset"
   ]
  },
  {
   "cell_type": "code",
   "execution_count": 0,
   "metadata": {
    "colab": {},
    "colab_type": "code",
    "id": "8Cvtx2oSISgX"
   },
   "outputs": [],
   "source": [
    "class_names=[\"T-shirt/top\",\"Trouser\",\"Pullover\",\"Dress\",\"Coat\",\"Sandal\",\"Shirt\",\"Sneaker\",\"Bag\",\"Ankle boot\"]"
   ]
  },
  {
   "cell_type": "code",
   "execution_count": 0,
   "metadata": {
    "colab": {
     "base_uri": "https://localhost:8080/",
     "height": 34
    },
    "colab_type": "code",
    "id": "H1kCcw__Irf4",
    "outputId": "921dbacd-510e-4e23-93a4-60562f035209"
   },
   "outputs": [
    {
     "data": {
      "text/plain": [
       "'Sneaker'"
      ]
     },
     "execution_count": 44,
     "metadata": {
      "tags": []
     },
     "output_type": "execute_result"
    }
   ],
   "source": [
    "class_names[y_train[5001]]"
   ]
  },
  {
   "cell_type": "code",
   "execution_count": 0,
   "metadata": {
    "colab": {
     "base_uri": "https://localhost:8080/",
     "height": 34
    },
    "colab_type": "code",
    "id": "DHatODqSEJbE",
    "outputId": "d25ead7c-dfef-4938-de08-a4069149ec7a"
   },
   "outputs": [
    {
     "data": {
      "text/plain": [
       "'Dress'"
      ]
     },
     "execution_count": 45,
     "metadata": {
      "tags": []
     },
     "output_type": "execute_result"
    }
   ],
   "source": [
    "\n",
    "class_names[y_valid[500]]"
   ]
  },
  {
   "cell_type": "code",
   "execution_count": 0,
   "metadata": {
    "colab": {},
    "colab_type": "code",
    "id": "cZuN-ENQIw7g"
   },
   "outputs": [],
   "source": [
    "model=keras.models.Sequential()\n",
    "#model.add(keras.layers.Flatten(input_shape=[28,28]))#here we have flattened the data and converted the iamge into 784 features\n",
    "model.add(keras.layers.Dense(300,activation=\"elu\",input_shape=(784,),kernel_initializer=\"he_normal\"))\n",
    "model.add(keras.layers.Dense(100,activation=\"elu\",kernel_initializer=\"he_normal\"))\n",
    "model.add(keras.layers.Dense(10,activation=\"softmax\"))\n",
    "\n",
    "\n",
    "\n"
   ]
  },
  {
   "cell_type": "code",
   "execution_count": 0,
   "metadata": {
    "colab": {
     "base_uri": "https://localhost:8080/",
     "height": 235
    },
    "colab_type": "code",
    "id": "VocFxyNuJlMi",
    "outputId": "d20f9b2c-038f-4a32-f690-96c1fa7efde6"
   },
   "outputs": [
    {
     "name": "stdout",
     "output_type": "stream",
     "text": [
      "_________________________________________________________________\n",
      "Layer (type)                 Output Shape              Param #   \n",
      "=================================================================\n",
      "dense_6 (Dense)              (None, 300)               235500    \n",
      "_________________________________________________________________\n",
      "dense_7 (Dense)              (None, 100)               30100     \n",
      "_________________________________________________________________\n",
      "dense_8 (Dense)              (None, 10)                1010      \n",
      "=================================================================\n",
      "Total params: 266,610\n",
      "Trainable params: 266,610\n",
      "Non-trainable params: 0\n",
      "_________________________________________________________________\n"
     ]
    }
   ],
   "source": [
    "model.summary()"
   ]
  },
  {
   "cell_type": "code",
   "execution_count": 0,
   "metadata": {
    "colab": {
     "base_uri": "https://localhost:8080/",
     "height": 67
    },
    "colab_type": "code",
    "id": "VebPc0XVJ3uc",
    "outputId": "768ba43c-f89f-4301-9d7c-2871bf65788b"
   },
   "outputs": [
    {
     "data": {
      "text/plain": [
       "[<tensorflow.python.keras.layers.core.Dense at 0x7fc3f0054710>,\n",
       " <tensorflow.python.keras.layers.core.Dense at 0x7fc3f0054588>,\n",
       " <tensorflow.python.keras.layers.core.Dense at 0x7fc3f00b6dd8>]"
      ]
     },
     "execution_count": 39,
     "metadata": {
      "tags": []
     },
     "output_type": "execute_result"
    }
   ],
   "source": [
    "model.layers"
   ]
  },
  {
   "cell_type": "code",
   "execution_count": 0,
   "metadata": {
    "colab": {
     "base_uri": "https://localhost:8080/",
     "height": 34
    },
    "colab_type": "code",
    "id": "57Sdi68KMKLD",
    "outputId": "d2717cdd-292f-42f8-aa70-b62ffe9643b3"
   },
   "outputs": [
    {
     "data": {
      "text/plain": [
       "'dense_7'"
      ]
     },
     "execution_count": 40,
     "metadata": {
      "tags": []
     },
     "output_type": "execute_result"
    }
   ],
   "source": [
    "model.layers[1].name"
   ]
  },
  {
   "cell_type": "code",
   "execution_count": 0,
   "metadata": {
    "colab": {
     "base_uri": "https://localhost:8080/",
     "height": 34
    },
    "colab_type": "code",
    "id": "Humy82Z0MQdx",
    "outputId": "f08d353c-978a-4d82-ff77-83d98d602e5b"
   },
   "outputs": [
    {
     "data": {
      "text/plain": [
       "'dense_7'"
      ]
     },
     "execution_count": 42,
     "metadata": {
      "tags": []
     },
     "output_type": "execute_result"
    }
   ],
   "source": [
    "model.get_layer('dense_7').name"
   ]
  },
  {
   "cell_type": "code",
   "execution_count": 0,
   "metadata": {
    "colab": {},
    "colab_type": "code",
    "id": "3aevVytNMXpY"
   },
   "outputs": [],
   "source": [
    "hidden1=model.layers[1]\n",
    "weights,biases=hidden1.get_weights()"
   ]
  },
  {
   "cell_type": "code",
   "execution_count": 0,
   "metadata": {
    "colab": {
     "base_uri": "https://localhost:8080/",
     "height": 235
    },
    "colab_type": "code",
    "id": "cHQBnrdRMlLg",
    "outputId": "4c4be5b8-a2a9-42e1-a25c-2f7bb8d9bbac"
   },
   "outputs": [
    {
     "data": {
      "text/plain": [
       "array([[ 0.04529044,  0.05996623,  0.07671394, ...,  0.07019726,\n",
       "        -0.05293593, -0.0287435 ],\n",
       "       [ 0.0681095 , -0.07911704, -0.06382905, ..., -0.00797155,\n",
       "        -0.00538054,  0.04518665],\n",
       "       [ 0.0122007 ,  0.05270166, -0.03383149, ..., -0.13716988,\n",
       "        -0.06597926,  0.06099069],\n",
       "       ...,\n",
       "       [ 0.07989542, -0.03356872, -0.02515422, ..., -0.04989338,\n",
       "         0.05975406, -0.0357126 ],\n",
       "       [ 0.12574942,  0.00897474, -0.03184175, ..., -0.08981844,\n",
       "        -0.09727904, -0.0835239 ],\n",
       "       [-0.05792268,  0.03414261, -0.06127099, ..., -0.09407625,\n",
       "        -0.03362002,  0.01656308]], dtype=float32)"
      ]
     },
     "execution_count": 44,
     "metadata": {
      "tags": []
     },
     "output_type": "execute_result"
    }
   ],
   "source": [
    "weights"
   ]
  },
  {
   "cell_type": "code",
   "execution_count": 0,
   "metadata": {
    "colab": {
     "base_uri": "https://localhost:8080/",
     "height": 34
    },
    "colab_type": "code",
    "id": "pgLIc4A7MmAX",
    "outputId": "45c2f3de-0e9c-492c-ecaa-62e4a3b3b603"
   },
   "outputs": [
    {
     "data": {
      "text/plain": [
       "(300, 100)"
      ]
     },
     "execution_count": 45,
     "metadata": {
      "tags": []
     },
     "output_type": "execute_result"
    }
   ],
   "source": [
    "weights.shape"
   ]
  },
  {
   "cell_type": "code",
   "execution_count": 0,
   "metadata": {
    "colab": {
     "base_uri": "https://localhost:8080/",
     "height": 134
    },
    "colab_type": "code",
    "id": "RgyqJfuzNmQG",
    "outputId": "14b6ee51-5df4-4f8b-95d6-03a05dfc6700"
   },
   "outputs": [
    {
     "data": {
      "text/plain": [
       "array([0., 0., 0., 0., 0., 0., 0., 0., 0., 0., 0., 0., 0., 0., 0., 0., 0.,\n",
       "       0., 0., 0., 0., 0., 0., 0., 0., 0., 0., 0., 0., 0., 0., 0., 0., 0.,\n",
       "       0., 0., 0., 0., 0., 0., 0., 0., 0., 0., 0., 0., 0., 0., 0., 0., 0.,\n",
       "       0., 0., 0., 0., 0., 0., 0., 0., 0., 0., 0., 0., 0., 0., 0., 0., 0.,\n",
       "       0., 0., 0., 0., 0., 0., 0., 0., 0., 0., 0., 0., 0., 0., 0., 0., 0.,\n",
       "       0., 0., 0., 0., 0., 0., 0., 0., 0., 0., 0., 0., 0., 0., 0.],\n",
       "      dtype=float32)"
      ]
     },
     "execution_count": 46,
     "metadata": {
      "tags": []
     },
     "output_type": "execute_result"
    }
   ],
   "source": [
    "\n",
    "biases"
   ]
  },
  {
   "cell_type": "code",
   "execution_count": 0,
   "metadata": {
    "colab": {
     "base_uri": "https://localhost:8080/",
     "height": 34
    },
    "colab_type": "code",
    "id": "wj6NJrsKNnTJ",
    "outputId": "35fca6b6-a8f1-4134-b265-53a7964d94a8"
   },
   "outputs": [
    {
     "data": {
      "text/plain": [
       "(100,)"
      ]
     },
     "execution_count": 47,
     "metadata": {
      "tags": []
     },
     "output_type": "execute_result"
    }
   ],
   "source": [
    "biases.shape"
   ]
  },
  {
   "cell_type": "code",
   "execution_count": 0,
   "metadata": {
    "colab": {},
    "colab_type": "code",
    "id": "MGnRZ9fXNpXh"
   },
   "outputs": [],
   "source": [
    "\n",
    "model.compile(loss=\"sparse_categorical_crossentropy\",\n",
    "             optimizer=\"sgd\",\n",
    "             metrics=[\"accuracy\"])"
   ]
  },
  {
   "cell_type": "code",
   "execution_count": 0,
   "metadata": {
    "colab": {
     "base_uri": "https://localhost:8080/",
     "height": 1042
    },
    "colab_type": "code",
    "id": "PuVAEeZ9OXZn",
    "outputId": "48675810-fc3d-4f1d-cd85-d80d33ec181c"
   },
   "outputs": [
    {
     "name": "stdout",
     "output_type": "stream",
     "text": [
      "Train on 51000 samples, validate on 5000 samples\n",
      "Epoch 1/30\n",
      "51000/51000 [==============================] - 6s 117us/sample - loss: 0.4991 - acc: 0.8632 - val_loss: 0.3315 - val_acc: 0.9068\n",
      "Epoch 2/30\n",
      "51000/51000 [==============================] - 6s 113us/sample - loss: 0.3012 - acc: 0.9140 - val_loss: 0.2924 - val_acc: 0.9162\n",
      "Epoch 3/30\n",
      "51000/51000 [==============================] - 6s 110us/sample - loss: 0.2647 - acc: 0.9240 - val_loss: 0.2668 - val_acc: 0.9244\n",
      "Epoch 4/30\n",
      "51000/51000 [==============================] - 6s 111us/sample - loss: 0.2384 - acc: 0.9317 - val_loss: 0.2452 - val_acc: 0.9322\n",
      "Epoch 5/30\n",
      "51000/51000 [==============================] - 5s 108us/sample - loss: 0.2157 - acc: 0.9394 - val_loss: 0.2271 - val_acc: 0.9354\n",
      "Epoch 6/30\n",
      "51000/51000 [==============================] - 6s 111us/sample - loss: 0.1962 - acc: 0.9444 - val_loss: 0.2095 - val_acc: 0.9416\n",
      "Epoch 7/30\n",
      "51000/51000 [==============================] - 6s 117us/sample - loss: 0.1786 - acc: 0.9493 - val_loss: 0.2033 - val_acc: 0.9426\n",
      "Epoch 8/30\n",
      "51000/51000 [==============================] - 6s 121us/sample - loss: 0.1639 - acc: 0.9536 - val_loss: 0.1861 - val_acc: 0.9504\n",
      "Epoch 9/30\n",
      "51000/51000 [==============================] - 6s 113us/sample - loss: 0.1515 - acc: 0.9579 - val_loss: 0.1764 - val_acc: 0.9510\n",
      "Epoch 10/30\n",
      "51000/51000 [==============================] - 6s 111us/sample - loss: 0.1412 - acc: 0.9607 - val_loss: 0.1674 - val_acc: 0.9540\n",
      "Epoch 11/30\n",
      "51000/51000 [==============================] - 6s 112us/sample - loss: 0.1320 - acc: 0.9633 - val_loss: 0.1593 - val_acc: 0.9558\n",
      "Epoch 12/30\n",
      "51000/51000 [==============================] - 6s 111us/sample - loss: 0.1238 - acc: 0.9656 - val_loss: 0.1531 - val_acc: 0.9572\n",
      "Epoch 13/30\n",
      "51000/51000 [==============================] - 6s 112us/sample - loss: 0.1165 - acc: 0.9672 - val_loss: 0.1495 - val_acc: 0.9576\n",
      "Epoch 14/30\n",
      "51000/51000 [==============================] - 6s 114us/sample - loss: 0.1102 - acc: 0.9695 - val_loss: 0.1459 - val_acc: 0.9602\n",
      "Epoch 15/30\n",
      "51000/51000 [==============================] - 6s 113us/sample - loss: 0.1043 - acc: 0.9707 - val_loss: 0.1376 - val_acc: 0.9618\n",
      "Epoch 16/30\n",
      "51000/51000 [==============================] - 6s 111us/sample - loss: 0.0990 - acc: 0.9725 - val_loss: 0.1353 - val_acc: 0.9608\n",
      "Epoch 17/30\n",
      "51000/51000 [==============================] - 6s 110us/sample - loss: 0.0940 - acc: 0.9741 - val_loss: 0.1310 - val_acc: 0.9638\n",
      "Epoch 18/30\n",
      "51000/51000 [==============================] - 6s 111us/sample - loss: 0.0898 - acc: 0.9750 - val_loss: 0.1269 - val_acc: 0.9642\n",
      "Epoch 19/30\n",
      "51000/51000 [==============================] - 6s 113us/sample - loss: 0.0860 - acc: 0.9761 - val_loss: 0.1245 - val_acc: 0.9656\n",
      "Epoch 20/30\n",
      "51000/51000 [==============================] - 6s 117us/sample - loss: 0.0822 - acc: 0.9772 - val_loss: 0.1232 - val_acc: 0.9654\n",
      "Epoch 21/30\n",
      "51000/51000 [==============================] - 6s 112us/sample - loss: 0.0787 - acc: 0.9781 - val_loss: 0.1209 - val_acc: 0.9650\n",
      "Epoch 22/30\n",
      "51000/51000 [==============================] - 6s 114us/sample - loss: 0.0755 - acc: 0.9790 - val_loss: 0.1193 - val_acc: 0.9656\n",
      "Epoch 23/30\n",
      "51000/51000 [==============================] - 6s 111us/sample - loss: 0.0721 - acc: 0.9800 - val_loss: 0.1158 - val_acc: 0.9670\n",
      "Epoch 24/30\n",
      "51000/51000 [==============================] - 6s 108us/sample - loss: 0.0695 - acc: 0.9809 - val_loss: 0.1158 - val_acc: 0.9682\n",
      "Epoch 25/30\n",
      "51000/51000 [==============================] - 6s 111us/sample - loss: 0.0668 - acc: 0.9816 - val_loss: 0.1135 - val_acc: 0.9686\n",
      "Epoch 26/30\n",
      "51000/51000 [==============================] - 6s 109us/sample - loss: 0.0640 - acc: 0.9826 - val_loss: 0.1108 - val_acc: 0.9682\n",
      "Epoch 27/30\n",
      "51000/51000 [==============================] - 6s 111us/sample - loss: 0.0619 - acc: 0.9826 - val_loss: 0.1085 - val_acc: 0.9696\n",
      "Epoch 28/30\n",
      "51000/51000 [==============================] - 6s 110us/sample - loss: 0.0594 - acc: 0.9838 - val_loss: 0.1094 - val_acc: 0.9688\n",
      "Epoch 29/30\n",
      "51000/51000 [==============================] - 6s 111us/sample - loss: 0.0573 - acc: 0.9837 - val_loss: 0.1099 - val_acc: 0.9694\n",
      "Epoch 30/30\n",
      "51000/51000 [==============================] - 6s 108us/sample - loss: 0.0553 - acc: 0.9846 - val_loss: 0.1057 - val_acc: 0.9698\n"
     ]
    }
   ],
   "source": [
    "history=model.fit(x_train,y_train,epochs=30,validation_data=(x_valid,y_valid))#we can use the this history syntax or this down one  to fit and validate(predict)"
   ]
  },
  {
   "cell_type": "code",
   "execution_count": 0,
   "metadata": {
    "colab": {
     "base_uri": "https://localhost:8080/",
     "height": 1042
    },
    "colab_type": "code",
    "id": "AU9K39BEOn71",
    "outputId": "58bd8d29-c972-40b8-bb44-9340cf36aff1"
   },
   "outputs": [
    {
     "name": "stdout",
     "output_type": "stream",
     "text": [
      "Train on 54000 samples, validate on 6000 samples\n",
      "Epoch 1/30\n",
      "54000/54000 [==============================] - 6s 110us/sample - loss: 0.0323 - acc: 0.9923 - val_loss: 0.0262 - val_acc: 0.9950\n",
      "Epoch 2/30\n",
      "54000/54000 [==============================] - 6s 111us/sample - loss: 0.0301 - acc: 0.9927 - val_loss: 0.0255 - val_acc: 0.9945\n",
      "Epoch 3/30\n",
      "54000/54000 [==============================] - 6s 110us/sample - loss: 0.0281 - acc: 0.9933 - val_loss: 0.0264 - val_acc: 0.9945\n",
      "Epoch 4/30\n",
      "54000/54000 [==============================] - 6s 112us/sample - loss: 0.0263 - acc: 0.9941 - val_loss: 0.0272 - val_acc: 0.9937\n",
      "Epoch 5/30\n",
      "54000/54000 [==============================] - 6s 111us/sample - loss: 0.0247 - acc: 0.9947 - val_loss: 0.0286 - val_acc: 0.9927\n",
      "Epoch 6/30\n",
      "54000/54000 [==============================] - 6s 111us/sample - loss: 0.0233 - acc: 0.9952 - val_loss: 0.0280 - val_acc: 0.9923\n",
      "Epoch 7/30\n",
      "54000/54000 [==============================] - 6s 111us/sample - loss: 0.0221 - acc: 0.9956 - val_loss: 0.0273 - val_acc: 0.9933\n",
      "Epoch 8/30\n",
      "54000/54000 [==============================] - 6s 110us/sample - loss: 0.0210 - acc: 0.9959 - val_loss: 0.0283 - val_acc: 0.9920\n",
      "Epoch 9/30\n",
      "54000/54000 [==============================] - 6s 112us/sample - loss: 0.0196 - acc: 0.9962 - val_loss: 0.0293 - val_acc: 0.9932\n",
      "Epoch 10/30\n",
      "54000/54000 [==============================] - 6s 110us/sample - loss: 0.0186 - acc: 0.9967 - val_loss: 0.0295 - val_acc: 0.9923\n",
      "Epoch 11/30\n",
      "54000/54000 [==============================] - 6s 111us/sample - loss: 0.0176 - acc: 0.9969 - val_loss: 0.0307 - val_acc: 0.9910\n",
      "Epoch 12/30\n",
      "54000/54000 [==============================] - 6s 110us/sample - loss: 0.0166 - acc: 0.9973 - val_loss: 0.0305 - val_acc: 0.9917\n",
      "Epoch 13/30\n",
      "54000/54000 [==============================] - 6s 112us/sample - loss: 0.0157 - acc: 0.9976 - val_loss: 0.0289 - val_acc: 0.9932\n",
      "Epoch 14/30\n",
      "54000/54000 [==============================] - 6s 111us/sample - loss: 0.0148 - acc: 0.9980 - val_loss: 0.0297 - val_acc: 0.9928\n",
      "Epoch 15/30\n",
      "54000/54000 [==============================] - 6s 111us/sample - loss: 0.0141 - acc: 0.9981 - val_loss: 0.0295 - val_acc: 0.9928\n",
      "Epoch 16/30\n",
      "54000/54000 [==============================] - 6s 111us/sample - loss: 0.0133 - acc: 0.9983 - val_loss: 0.0296 - val_acc: 0.9913\n",
      "Epoch 17/30\n",
      "54000/54000 [==============================] - 6s 110us/sample - loss: 0.0127 - acc: 0.9986 - val_loss: 0.0300 - val_acc: 0.9920\n",
      "Epoch 18/30\n",
      "54000/54000 [==============================] - 6s 112us/sample - loss: 0.0120 - acc: 0.9985 - val_loss: 0.0299 - val_acc: 0.9922\n",
      "Epoch 19/30\n",
      "54000/54000 [==============================] - 6s 111us/sample - loss: 0.0114 - acc: 0.9986 - val_loss: 0.0315 - val_acc: 0.9918\n",
      "Epoch 20/30\n",
      "54000/54000 [==============================] - 6s 111us/sample - loss: 0.0109 - acc: 0.9989 - val_loss: 0.0305 - val_acc: 0.9915\n",
      "Epoch 21/30\n",
      "54000/54000 [==============================] - 6s 111us/sample - loss: 0.0103 - acc: 0.9990 - val_loss: 0.0311 - val_acc: 0.9915\n",
      "Epoch 22/30\n",
      "54000/54000 [==============================] - 6s 110us/sample - loss: 0.0099 - acc: 0.9991 - val_loss: 0.0313 - val_acc: 0.9922\n",
      "Epoch 23/30\n",
      "54000/54000 [==============================] - 6s 112us/sample - loss: 0.0094 - acc: 0.9992 - val_loss: 0.0313 - val_acc: 0.9927\n",
      "Epoch 24/30\n",
      "54000/54000 [==============================] - 6s 111us/sample - loss: 0.0089 - acc: 0.9993 - val_loss: 0.0316 - val_acc: 0.9913\n",
      "Epoch 25/30\n",
      "54000/54000 [==============================] - 6s 112us/sample - loss: 0.0085 - acc: 0.9994 - val_loss: 0.0308 - val_acc: 0.9927\n",
      "Epoch 26/30\n",
      "54000/54000 [==============================] - 6s 110us/sample - loss: 0.0082 - acc: 0.9994 - val_loss: 0.0316 - val_acc: 0.9913\n",
      "Epoch 27/30\n",
      "54000/54000 [==============================] - 6s 111us/sample - loss: 0.0078 - acc: 0.9993 - val_loss: 0.0326 - val_acc: 0.9913\n",
      "Epoch 28/30\n",
      "54000/54000 [==============================] - 6s 111us/sample - loss: 0.0074 - acc: 0.9995 - val_loss: 0.0314 - val_acc: 0.9923\n",
      "Epoch 29/30\n",
      "54000/54000 [==============================] - 6s 112us/sample - loss: 0.0072 - acc: 0.9995 - val_loss: 0.0325 - val_acc: 0.9908\n",
      "Epoch 30/30\n",
      "54000/54000 [==============================] - 6s 113us/sample - loss: 0.0069 - acc: 0.9996 - val_loss: 0.0318 - val_acc: 0.9920\n"
     ]
    }
   ],
   "source": [
    "history=model.fit(x_train_full/255.0,y_train_full,epochs=30,validation_split=0.1)"
   ]
  },
  {
   "cell_type": "code",
   "execution_count": 0,
   "metadata": {
    "colab": {
     "base_uri": "https://localhost:8080/",
     "height": 134
    },
    "colab_type": "code",
    "id": "YsPk1prDQ3xr",
    "outputId": "d3c17a1a-3321-448c-90ad-8369def0787b"
   },
   "outputs": [
    {
     "data": {
      "text/plain": [
       "{'batch_size': 32,\n",
       " 'do_validation': True,\n",
       " 'epochs': 30,\n",
       " 'metrics': ['loss', 'acc', 'val_loss', 'val_acc'],\n",
       " 'samples': 54000,\n",
       " 'steps': None,\n",
       " 'verbose': 0}"
      ]
     },
     "execution_count": 26,
     "metadata": {
      "tags": []
     },
     "output_type": "execute_result"
    }
   ],
   "source": [
    "history.params"
   ]
  },
  {
   "cell_type": "code",
   "execution_count": 0,
   "metadata": {
    "colab": {
     "base_uri": "https://localhost:8080/",
     "height": 521
    },
    "colab_type": "code",
    "id": "VffB3hGsSY-J",
    "outputId": "a78bc9ca-8164-4121-981b-4198bf196aee"
   },
   "outputs": [
    {
     "data": {
      "text/plain": [
       "[0,\n",
       " 1,\n",
       " 2,\n",
       " 3,\n",
       " 4,\n",
       " 5,\n",
       " 6,\n",
       " 7,\n",
       " 8,\n",
       " 9,\n",
       " 10,\n",
       " 11,\n",
       " 12,\n",
       " 13,\n",
       " 14,\n",
       " 15,\n",
       " 16,\n",
       " 17,\n",
       " 18,\n",
       " 19,\n",
       " 20,\n",
       " 21,\n",
       " 22,\n",
       " 23,\n",
       " 24,\n",
       " 25,\n",
       " 26,\n",
       " 27,\n",
       " 28,\n",
       " 29]"
      ]
     },
     "execution_count": 30,
     "metadata": {
      "tags": []
     },
     "output_type": "execute_result"
    }
   ],
   "source": [
    "history.epoch"
   ]
  },
  {
   "cell_type": "code",
   "execution_count": 0,
   "metadata": {
    "colab": {
     "base_uri": "https://localhost:8080/",
     "height": 324
    },
    "colab_type": "code",
    "id": "btiP5rcuQ9Z2",
    "outputId": "ca1076d7-b904-4f2c-d620-2f038b4d44ae"
   },
   "outputs": [
    {
     "data": {
      "image/png": "[encoded data removed]",
      "text/plain": [
       "<Figure size 576x360 with 1 Axes>"
      ]
     },
     "metadata": {
      "tags": []
     },
     "output_type": "display_data"
    }
   ],
   "source": [
    "import pandas as pd\n",
    "import matplotlib.pyplot as plt\n",
    "\n",
    "pd.DataFrame(history.history).plot(figsize=(8,5))\n",
    "plt.grid(True)\n",
    "plt.gca().set_ylim(0,1)# set the vertical range to [0-1]\n",
    "plt.show()"
   ]
  },
  {
   "cell_type": "code",
   "execution_count": 0,
   "metadata": {
    "colab": {
     "base_uri": "https://localhost:8080/",
     "height": 50
    },
    "colab_type": "code",
    "id": "5ZJ86dThRo_3",
    "outputId": "bba064d6-1c74-487e-83fe-75100485cfc9"
   },
   "outputs": [
    {
     "name": "stdout",
     "output_type": "stream",
     "text": [
      "10000/10000 [==============================] - 0s 49us/sample - loss: 2.6884 - acc: 0.8314\n"
     ]
    },
    {
     "data": {
      "text/plain": [
       "[2.688395870780945, 0.8314]"
      ]
     },
     "execution_count": 28,
     "metadata": {
      "tags": []
     },
     "output_type": "execute_result"
    }
   ],
   "source": [
    "model.evaluate(x_test,y_test)"
   ]
  },
  {
   "cell_type": "code",
   "execution_count": 0,
   "metadata": {
    "colab": {
     "base_uri": "https://localhost:8080/",
     "height": 67
    },
    "colab_type": "code",
    "id": "m1FqXca9RvP0",
    "outputId": "c8d12fa9-3b36-4eb2-c325-2c1857b962ea"
   },
   "outputs": [
    {
     "data": {
      "text/plain": [
       "array([[0., 0., 0., 0., 0., 0., 0., 0., 0., 1.],\n",
       "       [0., 0., 1., 0., 0., 0., 0., 0., 0., 0.],\n",
       "       [0., 1., 0., 0., 0., 0., 0., 0., 0., 0.]], dtype=float32)"
      ]
     },
     "execution_count": 29,
     "metadata": {
      "tags": []
     },
     "output_type": "execute_result"
    }
   ],
   "source": [
    "x_new=x_test[:3]\n",
    "y_proba=model.predict(x_new)\n",
    "y_proba.round(2)"
   ]
  },
  {
   "cell_type": "code",
   "execution_count": 0,
   "metadata": {
    "colab": {
     "base_uri": "https://localhost:8080/",
     "height": 34
    },
    "colab_type": "code",
    "id": "qsnQlp8OR-WU",
    "outputId": "638ae1ec-e4be-4750-aecf-baec21a51e08"
   },
   "outputs": [
    {
     "data": {
      "text/plain": [
       "array([9, 2, 1])"
      ]
     },
     "execution_count": 32,
     "metadata": {
      "tags": []
     },
     "output_type": "execute_result"
    }
   ],
   "source": [
    "model.predict_classes(x_new)"
   ]
  },
  {
   "cell_type": "code",
   "execution_count": 0,
   "metadata": {
    "colab": {},
    "colab_type": "code",
    "id": "lvXA-eWTUCro"
   },
   "outputs": [],
   "source": []
  }
 ],
 "metadata": {
  "colab": {
   "collapsed_sections": [],
   "name": "Copy of Copy of mnist_fashion_keras.ipynb",
   "provenance": [],
   "version": "0.3.2"
  },
  "kernelspec": {
   "display_name": "Python 3",
   "language": "python",
   "name": "python3"
  },
  "language_info": {
   "codemirror_mode": {
    "name": "ipython",
    "version": 3
   },
   "file_extension": ".py",
   "mimetype": "text/x-python",
   "name": "python",
   "nbconvert_exporter": "python",
   "pygments_lexer": "ipython3",
   "version": "3.6.5"
  }
 },
 "nbformat": 4,
 "nbformat_minor": 1
}
